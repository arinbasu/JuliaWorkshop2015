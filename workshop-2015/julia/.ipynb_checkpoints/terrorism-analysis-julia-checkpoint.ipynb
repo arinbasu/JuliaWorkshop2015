{
 "cells": [
  {
   "cell_type": "code",
   "execution_count": 1,
   "metadata": {
    "collapsed": false
   },
   "outputs": [
    {
     "data": {
      "text/plain": [
       "\"/Users/arindambose/Documents/julia\""
      ]
     },
     "execution_count": 1,
     "metadata": {},
     "output_type": "execute_result"
    }
   ],
   "source": [
    "## Print the working directory on this computer\n",
    "pwd()"
   ]
  },
  {
   "cell_type": "code",
   "execution_count": 4,
   "metadata": {
    "collapsed": false
   },
   "outputs": [
    {
     "data": {
      "text/plain": [
       "13-element Array{ByteString,1}:\n",
       " \".ipynb_checkpoints\"            \n",
       " \"GTD-Export.csv\"                \n",
       " \"Tutorial.jl\"                   \n",
       " \"cofreewy.txt\"                  \n",
       " \"health.csv\"                    \n",
       " \"juliamaterials.ipynb\"          \n",
       " \"learnJlsanders.ipynb\"          \n",
       " \"learning.jl\"                   \n",
       " \"learningJulia.ipynb\"           \n",
       " \"myplot.png\"                    \n",
       " \"terrorism-analysis-julia.ipynb\"\n",
       " \"testing.jl\"                    \n",
       " \"tryingjulia.ipynb\"             "
      ]
     },
     "execution_count": 4,
     "metadata": {},
     "output_type": "execute_result"
    }
   ],
   "source": [
    "## list the files in the working directory\n",
    "readdir()"
   ]
  },
  {
   "cell_type": "code",
   "execution_count": 15,
   "metadata": {
    "collapsed": false
   },
   "outputs": [
    {
     "data": {
      "text/html": [
       "<table class=\"data-frame\"><tr><th></th><th>Gtdid</th><th>Date</th><th>country</th><th>city</th><th>perpetrator</th><th>fatalities</th><th>injured</th><th>attacktype</th><th>weapon</th></tr><tr><th>1</th><td>201404090005</td><td>2014-04-09</td><td>Pakistan</td><td>Islamabad</td><td>United Baloch Army (UBA)</td><td></td><td></td><td></td><td></td></tr><tr><th>2</th><td>201403140027</td><td>2014-03-14</td><td>Pakistan</td><td>Saraband</td><td>Tehrik-i-Taliban Pakistan (TTP)</td><td>13</td><td>50</td><td>Bombing/Explosion</td><td>Explosives/Bombs/Dynamite</td></tr><tr><th>3</th><td>201401210002</td><td>2014-01-21</td><td>Pakistan</td><td>Mastung district</td><td>Lashkar-e-Jhangvi</td><td>30</td><td>31</td><td>Bombing/Explosion</td><td>Explosives/Bombs/Dynamite</td></tr><tr><th>4</th><td>201308080011</td><td>2013-08-08</td><td>Pakistan</td><td>Quetta</td><td>Tehrik-i-Taliban Pakistan (TTP)</td><td>39</td><td>50</td><td>Bombing/Explosion</td><td>Explosives/Bombs/Dynamite</td></tr><tr><th>5</th><td>201306300001</td><td>2013-06-30</td><td>Pakistan</td><td>Badaber</td><td>Tehrik-i-Taliban Pakistan (TTP)</td><td>20</td><td>50</td><td>Bombing/Explosion</td><td>Explosives/Bombs/Dynamite</td></tr><tr><th>6</th><td>201306180001</td><td>2013-06-18</td><td>Pakistan</td><td>Mardan</td><td>Unknown</td><td>35</td><td>43</td><td>Bombing/Explosion</td><td>Explosives/Bombs/Dynamite</td></tr><tr><th>7</th><td>201305120011</td><td>2013-05-12</td><td>Pakistan</td><td>Quetta</td><td>Lashkar-e-Jhangvi</td><td>11</td><td>76</td><td>Assassination</td><td>Explosives/Bombs/Dynamite</td></tr><tr><th>8</th><td>201305070004</td><td>2013-05-06</td><td>Pakistan</td><td>Parachinar</td><td>Tehrik-i-Taliban Pakistan (TTP)</td><td>23</td><td>70</td><td>Bombing/Explosion</td><td>Explosives/Bombs/Dynamite</td></tr><tr><th>9</th><td>201304290001</td><td>2013-04-29</td><td>Pakistan</td><td>Peshawar</td><td>Unknown</td><td>9</td><td>43</td><td>Bombing/Explosion</td><td>Explosives/Bombs/Dynamite</td></tr><tr><th>10</th><td>201304260001</td><td>2013-04-26</td><td>Pakistan</td><td>Karachi</td><td>Tehrik-i-Taliban Pakistan (TTP)</td><td>11</td><td>40</td><td>Bombing/Explosion</td><td>Explosives/Bombs/Dynamite</td></tr><tr><th>11</th><td>201304160003</td><td>2013-04-16</td><td>Pakistan</td><td>Peshawar</td><td>Tehrik-i-Taliban Pakistan (TTP)</td><td>18</td><td>60</td><td>Bombing/Explosion</td><td>Explosives/Bombs/Dynamite</td></tr><tr><th>12</th><td>201302210003</td><td>2013-02-21</td><td>India</td><td>Hyderabad</td><td>Lashkar-e-Taiba (LeT)</td><td>8</td><td>58</td><td>Bombing/Explosion</td><td>Explosives/Bombs/Dynamite</td></tr><tr><th>13</th><td>201302210002</td><td>2013-02-21</td><td>India</td><td>Hyderabad</td><td>Lashkar-e-Taiba (LeT)</td><td>8</td><td>58</td><td>Bombing/Explosion</td><td>Explosives/Bombs/Dynamite</td></tr><tr><th>14</th><td>201301100003</td><td>2013-01-10</td><td>Pakistan</td><td>Quetta</td><td>United Baloch Army (UBA)</td><td>12</td><td>50</td><td>Bombing/Explosion</td><td>Explosives/Bombs/Dynamite</td></tr><tr><th>15</th><td>201212150001</td><td>2012-12-15</td><td>Pakistan</td><td>Peshawar</td><td>Tehrik-i-Taliban Pakistan (TTP)</td><td>14</td><td>40</td><td>Bombing/Explosion</td><td>Explosives/Bombs/Dynamite</td></tr><tr><th>16</th><td>201211250001</td><td>2012-11-25</td><td>Pakistan</td><td>Dera Ismail Khan</td><td>Tehrik-i-Taliban Pakistan (TTP)</td><td>5</td><td>83</td><td>Bombing/Explosion</td><td>Explosives/Bombs/Dynamite</td></tr><tr><th>17</th><td>201211220001</td><td>2012-11-21</td><td>Pakistan</td><td>Rawalpindi</td><td>Tehrik-i-Taliban Pakistan (TTP)</td><td>25</td><td>62</td><td>Bombing/Explosion</td><td>Explosives/Bombs/Dynamite</td></tr><tr><th>18</th><td>201209100002</td><td>2012-09-10</td><td>Pakistan</td><td>Parachinar</td><td>Tehrik-i-Taliban Pakistan (TTP)</td><td>14</td><td>70</td><td>Bombing/Explosion</td><td>Explosives/Bombs/Dynamite</td></tr><tr><th>19</th><td>201206160002</td><td>2012-06-16</td><td>Pakistan</td><td>Landi Kotal</td><td>Unknown</td><td>25</td><td>50</td><td>Bombing/Explosion</td><td>Explosives/Bombs/Dynamite</td></tr><tr><th>20</th><td>201205140002</td><td>2012-05-14</td><td>Pakistan</td><td>Quetta</td><td>Baloch Republican Army (BRA)</td><td>6</td><td>58</td><td>Bombing/Explosion</td><td>Explosives/Bombs/Dynamite</td></tr><tr><th>21</th><td>201205040001</td><td>2012-05-04</td><td>Pakistan</td><td>Khar</td><td>Tehrik-i-Taliban Pakistan (TTP)</td><td>21</td><td>40</td><td>Bombing/Explosion</td><td>Explosives/Bombs/Dynamite</td></tr><tr><th>22</th><td>201203110007</td><td>2012-03-11</td><td>Pakistan</td><td>Badaber</td><td>Tehrik-i-Taliban Pakistan (TTP)</td><td>18</td><td>35</td><td>Bombing/Explosion</td><td>Explosives/Bombs/Dynamite</td></tr><tr><th>23</th><td>201201100002</td><td>2012-01-10</td><td>Pakistan</td><td>Jamrud</td><td>Tehrik-i-Taliban Pakistan (TTP)</td><td>35</td><td>60</td><td>Bombing/Explosion</td><td>Explosives/Bombs/Dynamite</td></tr><tr><th>24</th><td>201109200002</td><td>2011-09-20</td><td>Pakistan</td><td>Quetta</td><td>Lashkar-e-Jhangvi</td><td>26</td><td>30</td><td>Armed Assault</td><td>Firearms</td></tr><tr><th>25</th><td>201108200002</td><td>2011-08-20</td><td>Pakistan</td><td>Karachi</td><td>Unknown</td><td>8</td><td>50</td><td>Armed Assault</td><td>Firearms</td></tr><tr><th>26</th><td>201107130009</td><td>2011-07-13</td><td>India</td><td>Mumbai</td><td>Indian Mujahideen</td><td>7</td><td>44</td><td>Bombing/Explosion</td><td>Explosives/Bombs/Dynamite</td></tr><tr><th>27</th><td>201106110006</td><td>2011-06-11</td><td>Pakistan</td><td>Peshawar</td><td>Tehrik-i-Taliban Pakistan (TTP)</td><td>18</td><td>40</td><td>Bombing/Explosion</td><td>Explosives/Bombs/Dynamite</td></tr><tr><th>28</th><td>201106110005</td><td>2011-06-11</td><td>Pakistan</td><td>Peshawar</td><td>Tehrik-i-Taliban Pakistan (TTP)</td><td>18</td><td>40</td><td>Bombing/Explosion</td><td>Explosives/Bombs/Dynamite</td></tr><tr><th>29</th><td>201105030019</td><td>2011-05-03</td><td>India</td><td>Lohardaga</td><td>Communist Party of India - Maoist (CPI-Maoist)</td><td>11</td><td>40</td><td>Bombing/Explosion</td><td>Explosives/Bombs/Dynamite</td></tr><tr><th>30</th><td>201103090020</td><td>2011-03-09</td><td>Pakistan</td><td>Peshawar</td><td>Tehrik-i-Taliban Pakistan (TTP)</td><td>26</td><td>50</td><td>Bombing/Explosion</td><td>Explosives/Bombs/Dynamite</td></tr><tr><th>&vellip;</th><td>&vellip;</td><td>&vellip;</td><td>&vellip;</td><td>&vellip;</td><td>&vellip;</td><td>&vellip;</td><td>&vellip;</td><td>&vellip;</td><td>&vellip;</td></tr></table>"
      ],
      "text/plain": [
       "75x9 DataFrames.DataFrame\n",
       "| Row | Gtdid        | Date         | country      | city                 |\n",
       "|-----|--------------|--------------|--------------|----------------------|\n",
       "| 1   | 201404090005 | \"2014-04-09\" | \"Pakistan\"   | \"Islamabad\"          |\n",
       "| 2   | 201403140027 | \"2014-03-14\" | \"Pakistan\"   | \"Saraband\"           |\n",
       "| 3   | 201401210002 | \"2014-01-21\" | \"Pakistan\"   | \"Mastung district\"   |\n",
       "| 4   | 201308080011 | \"2013-08-08\" | \"Pakistan\"   | \"Quetta\"             |\n",
       "| 5   | 201306300001 | \"2013-06-30\" | \"Pakistan\"   | \"Badaber\"            |\n",
       "| 6   | 201306180001 | \"2013-06-18\" | \"Pakistan\"   | \"Mardan\"             |\n",
       "| 7   | 201305120011 | \"2013-05-12\" | \"Pakistan\"   | \"Quetta\"             |\n",
       "| 8   | 201305070004 | \"2013-05-06\" | \"Pakistan\"   | \"Parachinar\"         |\n",
       "| 9   | 201304290001 | \"2013-04-29\" | \"Pakistan\"   | \"Peshawar\"           |\n",
       "| 10  | 201304260001 | \"2013-04-26\" | \"Pakistan\"   | \"Karachi\"            |\n",
       "| 11  | 201304160003 | \"2013-04-16\" | \"Pakistan\"   | \"Peshawar\"           |\n",
       "⋮\n",
       "| 64  | 200707160003 | \"2007-07-16\" | \"Pakistan\"   | \"Dera Ismail Khan\"   |\n",
       "| 65  | 200707150002 | \"2007-07-15\" | \"Pakistan\"   | \"Dera Ismail Khan\"   |\n",
       "| 66  | 200704280002 | \"2007-04-28\" | \"Pakistan\"   | \"Charsadda\"          |\n",
       "| 67  | 200704060009 | \"2007-04-06\" | \"Pakistan\"   | \"Parachinar\"         |\n",
       "| 68  | 200703150001 | \"2007-03-15\" | \"India\"      | \"Rani Bodli\"         |\n",
       "| 69  | 200701050004 | \"2007-01-05\" | \"India\"      | \"Sadiya\"             |\n",
       "| 70  | 200611050001 | \"2006-11-05\" | \"India\"      | \"Guwahati\"           |\n",
       "| 71  | 200602280005 | \"2006-02-28\" | \"India\"      | \"Unknown\"            |\n",
       "| 72  | 200602090002 | \"2006-02-09\" | \"Pakistan\"   | \"Hangu\"              |\n",
       "| 73  | 200512080003 | \"2005-12-08\" | \"Bangladesh\" | \"Netrokona district\" |\n",
       "| 74  | 200511290001 | \"2005-11-29\" | \"Bangladesh\" | \"Gazipur\"            |\n",
       "| 75  | 200511150002 | \"2005-11-15\" | \"India\"      | \"Tangmarg\"           |\n",
       "\n",
       "| Row | perpetrator                                      |\n",
       "|-----|--------------------------------------------------|\n",
       "| 1   | \"United Baloch Army (UBA)\"                       |\n",
       "| 2   | \"Tehrik-i-Taliban Pakistan (TTP)\"                |\n",
       "| 3   | \"Lashkar-e-Jhangvi\"                              |\n",
       "| 4   | \"Tehrik-i-Taliban Pakistan (TTP)\"                |\n",
       "| 5   | \"Tehrik-i-Taliban Pakistan (TTP)\"                |\n",
       "| 6   | \"Unknown\"                                        |\n",
       "| 7   | \"Lashkar-e-Jhangvi\"                              |\n",
       "| 8   | \"Tehrik-i-Taliban Pakistan (TTP)\"                |\n",
       "| 9   | \"Unknown\"                                        |\n",
       "| 10  | \"Tehrik-i-Taliban Pakistan (TTP)\"                |\n",
       "| 11  | \"Tehrik-i-Taliban Pakistan (TTP)\"                |\n",
       "⋮\n",
       "| 64  | \"Unknown\"                                        |\n",
       "| 65  | \"Unknown\"                                        |\n",
       "| 66  | \"Unknown\"                                        |\n",
       "| 67  | \"Unknown\"                                        |\n",
       "| 68  | \"Naxalites\"                                      |\n",
       "| 69  | \"United Liberation Front of Assam (ULFA)\"        |\n",
       "| 70  | \"Unknown\"                                        |\n",
       "| 71  | \"Communist Party of India - Maoist (CPI-Maoist)\" |\n",
       "| 72  | \"Unknown\"                                        |\n",
       "| 73  | \"Jama'atul Mujahideen Bangladesh (JMB)\"          |\n",
       "| 74  | \"Jama'atul Mujahideen Bangladesh (JMB)\"          |\n",
       "| 75  | \"Unknown\"                                        |\n",
       "\n",
       "| Row | fatalities                    | injured | attacktype                  |\n",
       "|-----|-------------------------------|---------|-----------------------------|\n",
       "| 1   | \"\"                            | \"\"      | \"\"                          |\n",
       "| 2   | 13                            | 50      | \"Bombing/Explosion\"         |\n",
       "| 3   | 30                            | 31      | \"Bombing/Explosion\"         |\n",
       "| 4   | 39                            | 50      | \"Bombing/Explosion\"         |\n",
       "| 5   | 20                            | 50      | \"Bombing/Explosion\"         |\n",
       "| 6   | 35                            | 43      | \"Bombing/Explosion\"         |\n",
       "| 7   | 11                            | 76      | \"Assassination\"             |\n",
       "| 8   | 23                            | 70      | \"Bombing/Explosion\"         |\n",
       "| 9   | 9                             | 43      | \"Bombing/Explosion\"         |\n",
       "| 10  | 11                            | 40      | \"Bombing/Explosion\"         |\n",
       "| 11  | 18                            | 60      | \"Bombing/Explosion\"         |\n",
       "⋮\n",
       "| 64  | 21                            | 35      | \"Bombing/Explosion\"         |\n",
       "| 65  | 27                            | 60      | \"Bombing/Explosion\"         |\n",
       "| 66  | 31                            | 50      | \"Bombing/Explosion\"         |\n",
       "| 67  | 10                            | 83      | \"Armed Assault\"             |\n",
       "| 68  | 55                            | 12      | \"Armed Assault\"             |\n",
       "| 69  | 48                            | 19      | \"Armed Assault\"             |\n",
       "| 70  | 11                            | 53      | \"Bombing/Explosion\"         |\n",
       "| 71  | \"Private Citizens & Property\" | \"\"      | \"Explosives/Bombs/Dynamite\" |\n",
       "| 72  | 31                            | 50      | \"Bombing/Explosion\"         |\n",
       "| 73  | 8                             | 50      | \"Bombing/Explosion\"         |\n",
       "| 74  | 7                             | 50      | \"Bombing/Explosion\"         |\n",
       "| 75  | 2                             | 60      | \"Bombing/Explosion\"         |\n",
       "\n",
       "| Row | weapon                      |\n",
       "|-----|-----------------------------|\n",
       "| 1   | \"\"                          |\n",
       "| 2   | \"Explosives/Bombs/Dynamite\" |\n",
       "| 3   | \"Explosives/Bombs/Dynamite\" |\n",
       "| 4   | \"Explosives/Bombs/Dynamite\" |\n",
       "| 5   | \"Explosives/Bombs/Dynamite\" |\n",
       "| 6   | \"Explosives/Bombs/Dynamite\" |\n",
       "| 7   | \"Explosives/Bombs/Dynamite\" |\n",
       "| 8   | \"Explosives/Bombs/Dynamite\" |\n",
       "| 9   | \"Explosives/Bombs/Dynamite\" |\n",
       "| 10  | \"Explosives/Bombs/Dynamite\" |\n",
       "| 11  | \"Explosives/Bombs/Dynamite\" |\n",
       "⋮\n",
       "| 64  | \"Explosives/Bombs/Dynamite\" |\n",
       "| 65  | \"Explosives/Bombs/Dynamite\" |\n",
       "| 66  | \"Explosives/Bombs/Dynamite\" |\n",
       "| 67  | \"Firearms\"                  |\n",
       "| 68  | \"Incendiary\"                |\n",
       "| 69  | \"Firearms\"                  |\n",
       "| 70  | \"Explosives/Bombs/Dynamite\" |\n",
       "| 71  | \"\"                          |\n",
       "| 72  | \"Explosives/Bombs/Dynamite\" |\n",
       "| 73  | \"Explosives/Bombs/Dynamite\" |\n",
       "| 74  | \"Explosives/Bombs/Dynamite\" |\n",
       "| 75  | \"Explosives/Bombs/Dynamite\" |"
      ]
     },
     "execution_count": 15,
     "metadata": {},
     "output_type": "execute_result"
    }
   ],
   "source": [
    "## read the GTD-export.csv file and import to a data frame. \n",
    "# Load the DataFrames package, Distributions pakage, and HypothesisTests package\n",
    "using DataFrames, Distributions, HypothesisTests, StatsBase, StatsFuns\n",
    "\n",
    "mydata = DataFrame(readcsv(\"GTD-Export.csv\"))\n",
    "\n",
    "## Simple preprocessing data\n",
    "## we now need to delete the second row\n",
    "## we also will rename the x1 ... x7\n",
    "\n",
    "## First rename the variables\n",
    "\n",
    "mydata = rename!(mydata, Dict(:x1 => :Gtdid,\n",
    ":x2=>:Date, :x3=>:country, :x4=>:city, \n",
    ":x5=>:perpetrator, :x11=>:fatalities, \n",
    ":x12=>:injured, :x17=>:attacktype,\n",
    ":x20=>:weapon))\n",
    "\n",
    "## next, remove the row 1 from the data set\n",
    "\n",
    "mydata = deleterows!(mydata, 1)\n",
    "\n",
    "## next, we remove the unwanted columns x6..x10, x13...x16,\n",
    "## x18, x19,x21...x24\n",
    "\n",
    "mydata = delete!(mydata, [:x6, :x7, :x8, \n",
    "    :x9, :x10, :x13, :x14, :x15, :x16,\n",
    "    :x18, :x19, :x21, :x22, :x23, :x24])\n"
   ]
  },
  {
   "cell_type": "code",
   "execution_count": null,
   "metadata": {
    "collapsed": true
   },
   "outputs": [],
   "source": [
    "myda"
   ]
  }
 ],
 "metadata": {
  "kernelspec": {
   "display_name": "Julia 0.4.1",
   "language": "julia",
   "name": "julia-0.4"
  },
  "language_info": {
   "file_extension": ".jl",
   "mimetype": "application/julia",
   "name": "julia",
   "version": "0.4.1"
  }
 },
 "nbformat": 4,
 "nbformat_minor": 0
}
