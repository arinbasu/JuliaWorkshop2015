{
 "cells": [
  {
   "cell_type": "code",
   "execution_count": 1,
   "metadata": {
    "collapsed": false
   },
   "outputs": [
    {
     "ename": "LoadError",
     "evalue": "LoadError: UndefVarError: @data not defined\nwhile loading In[1], in expression starting on line 2",
     "output_type": "error",
     "traceback": [
      "LoadError: UndefVarError: @data not defined\nwhile loading In[1], in expression starting on line 2",
      ""
     ]
    }
   ],
   "source": [
    "dv = @data([\"group A\", \"group B\", \"group C\"])\n",
    "dv"
   ]
  },
  {
   "cell_type": "code",
   "execution_count": 2,
   "metadata": {
    "collapsed": false
   },
   "outputs": [
    {
     "data": {
      "text/plain": [
       "15-element Array{ByteString,1}:\n",
       " \".ipynb_checkpoints\"            \n",
       " \"GTD-Export.csv\"                \n",
       " \"Tutorial.jl\"                   \n",
       " \"Untitled.ipynb\"                \n",
       " \"cofreewy.txt\"                  \n",
       " \"health.csv\"                    \n",
       " \"juliamaterials.ipynb\"          \n",
       " \"learnJlsanders.ipynb\"          \n",
       " \"learning.jl\"                   \n",
       " \"learningJulia.ipynb\"           \n",
       " \"mydata2.csv\"                   \n",
       " \"myplot.png\"                    \n",
       " \"terrorism-analysis-julia.ipynb\"\n",
       " \"testing.jl\"                    \n",
       " \"tryingjulia.ipynb\"             "
      ]
     },
     "execution_count": 2,
     "metadata": {},
     "output_type": "execute_result"
    }
   ],
   "source": [
    "readdir()"
   ]
  },
  {
   "cell_type": "code",
   "execution_count": 3,
   "metadata": {
    "collapsed": false
   },
   "outputs": [
    {
     "data": {
      "text/plain": [
       "25x4 Array{Any,2}:\n",
       "   \"Hour\"   \"CO\"     \"Traffic\"    \"Wind\"\n",
       "  1        2.4     50           -0.2    \n",
       "  2        1.7     26            0.0    \n",
       "  3        1.4     16            0.0    \n",
       "  4        1.2     10            0.0    \n",
       "  5        1.2     12            0.1    \n",
       "  6        2.0     41           -0.1    \n",
       "  7        3.4    157           -0.1    \n",
       "  8        5.8    276           -0.2    \n",
       "  9        6.8    282            0.2    \n",
       " 10        6.6    242            1.0    \n",
       " 11        6.6    200            2.3    \n",
       " 12        6.3    186            3.8    \n",
       " 13        5.8    179            4.6    \n",
       " 14        5.5    178            5.4    \n",
       " 15        5.9    203            5.9    \n",
       " 16        6.8    264            5.9    \n",
       " 17        7.0    289            5.6    \n",
       " 18        7.4    308            4.9    \n",
       " 19        6.4    267            3.8    \n",
       " 20        5.0    190            2.5    \n",
       " 21        3.8    125            1.4    \n",
       " 22        3.5    120            0.6    \n",
       " 23        3.3    116            0.4    \n",
       " 24        3.1     87            0.1    "
      ]
     },
     "execution_count": 3,
     "metadata": {},
     "output_type": "execute_result"
    }
   ],
   "source": [
    "mydata = readdlm(\"cofreewy.txt\")"
   ]
  },
  {
   "cell_type": "code",
   "execution_count": 14,
   "metadata": {
    "collapsed": false
   },
   "outputs": [
    {
     "ename": "LoadError",
     "evalue": "LoadError: syntax: invalid assignment location\nwhile loading In[14], in expression starting on line 3",
     "output_type": "error",
     "traceback": [
      "LoadError: syntax: invalid assignment location\nwhile loading In[14], in expression starting on line 3",
      ""
     ]
    }
   ],
   "source": [
    "using DataFrames, DataArrays, #PooledDataArrays\n",
    "\n",
    "mydata1 = DataFrame(readcsv(\"GTD-Export.csv\"))"
   ]
  },
  {
   "cell_type": "code",
   "execution_count": 12,
   "metadata": {
    "collapsed": false
   },
   "outputs": [
    {
     "data": {
      "text/plain": [
       "15-element Array{ByteString,1}:\n",
       " \".ipynb_checkpoints\"            \n",
       " \"GTD-Export.csv\"                \n",
       " \"Tutorial.jl\"                   \n",
       " \"Untitled.ipynb\"                \n",
       " \"cofreewy.txt\"                  \n",
       " \"health.csv\"                    \n",
       " \"juliamaterials.ipynb\"          \n",
       " \"learnJlsanders.ipynb\"          \n",
       " \"learning.jl\"                   \n",
       " \"learningJulia.ipynb\"           \n",
       " \"mydata2.csv\"                   \n",
       " \"myplot.png\"                    \n",
       " \"terrorism-analysis-julia.ipynb\"\n",
       " \"testing.jl\"                    \n",
       " \"tryingjulia.ipynb\"             "
      ]
     },
     "execution_count": 12,
     "metadata": {},
     "output_type": "execute_result"
    }
   ],
   "source": [
    "readdir()"
   ]
  },
  {
   "cell_type": "code",
   "execution_count": 15,
   "metadata": {
    "collapsed": false
   },
   "outputs": [
    {
     "name": "stdout",
     "output_type": "stream",
     "text": [
      "search: "
     ]
    },
    {
     "data": {
      "text/latex": [
       "An AbstractDataFrame that stores a set of named columns\n",
       "The columns are normally AbstractVectors stored in memory, particularly a Vector, DataVector, or PooledDataVector.\n",
       "\\subsubsection{Constructors}\n",
       "\\begin{verbatim}\n",
       "DataFrame(columns::Vector{Any}, names::Vector{Symbol})\n",
       "DataFrame(kwargs...)\n",
       "DataFrame() # an empty DataFrame\n",
       "DataFrame(t::Type, nrows::Integer, ncols::Integer) # an empty DataFrame of arbitrary size\n",
       "DataFrame(column_eltypes::Vector, names::Vector, nrows::Integer)\n",
       "DataFrame(ds::Vector{Associative})\n",
       "\\end{verbatim}\n",
       "\\subsubsection{Arguments}\n",
       "\\begin{itemize}\n",
       "\\item \\texttt{columns} : a Vector\\{Any\\} with each column as contents\n",
       "\\item \\texttt{names} : the column names\n",
       "\\item \\texttt{kwargs} : the key gives the column names, and the value is the   column contents\n",
       "\\item \\texttt{t} : elemental type of all columns\n",
       "\\item \\texttt{nrows}, \\texttt{ncols} : number of rows and columns\n",
       "\\item \\texttt{column_eltypes} : elemental type of each column\n",
       "\\item \\texttt{ds} : a vector of Associatives\n",
       "\\end{itemize}\n",
       "Each column in \\texttt{columns} should be the same length.\n",
       "\\subsubsection{Notes}\n",
       "Most of the default constructors convert columns to \\texttt{DataArrays}.  The base constructor, \\texttt{DataFrame(columns::Vector{Any}, names::Vector{Symbol})} does not convert to \\texttt{DataArrays}.\n",
       "A \\texttt{DataFrame} is a lightweight object. As long as columns are not manipulated, creation of a DataFrame from existing AbstractVectors is inexpensive. For example, indexing on columns is inexpensive, but indexing by rows is expensive because copies are made of each column.\n",
       "Because column types can vary, a DataFrame is not type stable. For performance-critical code, do not index into a DataFrame inside of loops.\n",
       "\\subsubsection{Examples}\n",
       "\\begin{verbatim}\n",
       "df = DataFrame()\n",
       "v = [\"x\",\"y\",\"z\"][rand(1:3, 10)]\n",
       "df1 = DataFrame(Any[[1:10], v, rand(10)], [:A, :B, :C])  # columns are Arrays\n",
       "df2 = DataFrame(A = 1:10, B = v, C = rand(10))           # columns are DataArrays\n",
       "dump(df1)\n",
       "dump(df2)\n",
       "describe(df2)\n",
       "head(df1)\n",
       "df1[:A] + df2[:C]\n",
       "df1[1:4, 1:2]\n",
       "df1[[:A,:C]]\n",
       "df1[1:2, [:A,:C]]\n",
       "df1[:, [:A,:C]]\n",
       "df1[:, [1,3]]\n",
       "df1[1:4, :]\n",
       "df1[1:4, :C]\n",
       "df1[1:4, :C] = 40. * df1[1:4, :C]\n",
       "[df1; df2]  # vcat\n",
       "[df1  df2]  # hcat\n",
       "size(df1)\n",
       "\\end{verbatim}\n"
      ],
      "text/markdown": [
       "An AbstractDataFrame that stores a set of named columns\n",
       "\n",
       "The columns are normally AbstractVectors stored in memory, particularly a Vector, DataVector, or PooledDataVector.\n",
       "\n",
       "### Constructors\n",
       "\n",
       "```julia\n",
       "DataFrame(columns::Vector{Any}, names::Vector{Symbol})\n",
       "DataFrame(kwargs...)\n",
       "DataFrame() # an empty DataFrame\n",
       "DataFrame(t::Type, nrows::Integer, ncols::Integer) # an empty DataFrame of arbitrary size\n",
       "DataFrame(column_eltypes::Vector, names::Vector, nrows::Integer)\n",
       "DataFrame(ds::Vector{Associative})\n",
       "```\n",
       "\n",
       "### Arguments\n",
       "\n",
       "  * `columns` : a Vector{Any} with each column as contents\n",
       "  * `names` : the column names\n",
       "  * `kwargs` : the key gives the column names, and the value is the   column contents\n",
       "  * `t` : elemental type of all columns\n",
       "  * `nrows`, `ncols` : number of rows and columns\n",
       "  * `column_eltypes` : elemental type of each column\n",
       "  * `ds` : a vector of Associatives\n",
       "\n",
       "Each column in `columns` should be the same length.\n",
       "\n",
       "### Notes\n",
       "\n",
       "Most of the default constructors convert columns to `DataArrays`.  The base constructor, `DataFrame(columns::Vector{Any}, names::Vector{Symbol})` does not convert to `DataArrays`.\n",
       "\n",
       "A `DataFrame` is a lightweight object. As long as columns are not manipulated, creation of a DataFrame from existing AbstractVectors is inexpensive. For example, indexing on columns is inexpensive, but indexing by rows is expensive because copies are made of each column.\n",
       "\n",
       "Because column types can vary, a DataFrame is not type stable. For performance-critical code, do not index into a DataFrame inside of loops.\n",
       "\n",
       "### Examples\n",
       "\n",
       "```julia\n",
       "df = DataFrame()\n",
       "v = [\"x\",\"y\",\"z\"][rand(1:3, 10)]\n",
       "df1 = DataFrame(Any[[1:10], v, rand(10)], [:A, :B, :C])  # columns are Arrays\n",
       "df2 = DataFrame(A = 1:10, B = v, C = rand(10))           # columns are DataArrays\n",
       "dump(df1)\n",
       "dump(df2)\n",
       "describe(df2)\n",
       "head(df1)\n",
       "df1[:A] + df2[:C]\n",
       "df1[1:4, 1:2]\n",
       "df1[[:A,:C]]\n",
       "df1[1:2, [:A,:C]]\n",
       "df1[:, [:A,:C]]\n",
       "df1[:, [1,3]]\n",
       "df1[1:4, :]\n",
       "df1[1:4, :C]\n",
       "df1[1:4, :C] = 40. * df1[1:4, :C]\n",
       "[df1; df2]  # vcat\n",
       "[df1  df2]  # hcat\n",
       "size(df1)\n",
       "```\n"
      ],
      "text/plain": [
       "An AbstractDataFrame that stores a set of named columns\n",
       "\n",
       "The columns are normally AbstractVectors stored in memory, particularly a Vector, DataVector, or PooledDataVector.\n",
       "\n",
       "### Constructors\n",
       "\n",
       "```julia\n",
       "DataFrame(columns::Vector{Any}, names::Vector{Symbol})\n",
       "DataFrame(kwargs...)\n",
       "DataFrame() # an empty DataFrame\n",
       "DataFrame(t::Type, nrows::Integer, ncols::Integer) # an empty DataFrame of arbitrary size\n",
       "DataFrame(column_eltypes::Vector, names::Vector, nrows::Integer)\n",
       "DataFrame(ds::Vector{Associative})\n",
       "```\n",
       "\n",
       "### Arguments\n",
       "\n",
       "  * `columns` : a Vector{Any} with each column as contents\n",
       "  * `names` : the column names\n",
       "  * `kwargs` : the key gives the column names, and the value is the   column contents\n",
       "  * `t` : elemental type of all columns\n",
       "  * `nrows`, `ncols` : number of rows and columns\n",
       "  * `column_eltypes` : elemental type of each column\n",
       "  * `ds` : a vector of Associatives\n",
       "\n",
       "Each column in `columns` should be the same length.\n",
       "\n",
       "### Notes\n",
       "\n",
       "Most of the default constructors convert columns to `DataArrays`.  The base constructor, `DataFrame(columns::Vector{Any}, names::Vector{Symbol})` does not convert to `DataArrays`.\n",
       "\n",
       "A `DataFrame` is a lightweight object. As long as columns are not manipulated, creation of a DataFrame from existing AbstractVectors is inexpensive. For example, indexing on columns is inexpensive, but indexing by rows is expensive because copies are made of each column.\n",
       "\n",
       "Because column types can vary, a DataFrame is not type stable. For performance-critical code, do not index into a DataFrame inside of loops.\n",
       "\n",
       "### Examples\n",
       "\n",
       "```julia\n",
       "df = DataFrame()\n",
       "v = [\"x\",\"y\",\"z\"][rand(1:3, 10)]\n",
       "df1 = DataFrame(Any[[1:10], v, rand(10)], [:A, :B, :C])  # columns are Arrays\n",
       "df2 = DataFrame(A = 1:10, B = v, C = rand(10))           # columns are DataArrays\n",
       "dump(df1)\n",
       "dump(df2)\n",
       "describe(df2)\n",
       "head(df1)\n",
       "df1[:A] + df2[:C]\n",
       "df1[1:4, 1:2]\n",
       "df1[[:A,:C]]\n",
       "df1[1:2, [:A,:C]]\n",
       "df1[:, [:A,:C]]\n",
       "df1[:, [1,3]]\n",
       "df1[1:4, :]\n",
       "df1[1:4, :C]\n",
       "df1[1:4, :C] = 40. * df1[1:4, :C]\n",
       "[df1; df2]  # vcat\n",
       "[df1  df2]  # hcat\n",
       "size(df1)\n",
       "```\n"
      ]
     },
     "execution_count": 15,
     "metadata": {},
     "output_type": "execute_result"
    },
    {
     "name": "stdout",
     "output_type": "stream",
     "text": [
      "DataFrame DataFrames DataFrameRow SubDataFrame GroupedDataFrame\n",
      "\n"
     ]
    }
   ],
   "source": [
    "?DataFrame"
   ]
  },
  {
   "cell_type": "code",
   "execution_count": 20,
   "metadata": {
    "collapsed": false
   },
   "outputs": [],
   "source": [
    "mydat = DataFrame(readcsv(\"GTD-Export.csv\"))\n",
    "# delete the first row\n",
    "mydat = deleterows!(mydat, 1)\n",
    "# make x3 and factor variable\n",
    "\n",
    "mydat2 = pool!(mydat, [:x3, :x4] )"
   ]
  },
  {
   "cell_type": "code",
   "execution_count": 21,
   "metadata": {
    "collapsed": false
   },
   "outputs": [
    {
     "ename": "LoadError",
     "evalue": "LoadError: MethodError: `getindex` has no method matching getindex(::Void, ::Symbol)\nwhile loading In[21], in expression starting on line 1",
     "output_type": "error",
     "traceback": [
      "LoadError: MethodError: `getindex` has no method matching getindex(::Void, ::Symbol)\nwhile loading In[21], in expression starting on line 1",
      ""
     ]
    }
   ],
   "source": [
    "summary(mydat2[:x3])"
   ]
  },
  {
   "cell_type": "code",
   "execution_count": 22,
   "metadata": {
    "collapsed": false
   },
   "outputs": [
    {
     "ename": "LoadError",
     "evalue": "LoadError: MethodError: `getindex` has no method matching getindex(::Void, ::Symbol)\nwhile loading In[22], in expression starting on line 1",
     "output_type": "error",
     "traceback": [
      "LoadError: MethodError: `getindex` has no method matching getindex(::Void, ::Symbol)\nwhile loading In[22], in expression starting on line 1",
      ""
     ]
    }
   ],
   "source": [
    "describe(mydat2[:x3])"
   ]
  },
  {
   "cell_type": "code",
   "execution_count": 23,
   "metadata": {
    "collapsed": false
   },
   "outputs": [
    {
     "ename": "LoadError",
     "evalue": "LoadError: MethodError: `getindex` has no method matching getindex(::Void, ::Symbol)\nwhile loading In[23], in expression starting on line 1",
     "output_type": "error",
     "traceback": [
      "LoadError: MethodError: `getindex` has no method matching getindex(::Void, ::Symbol)\nwhile loading In[23], in expression starting on line 1",
      ""
     ]
    }
   ],
   "source": [
    "levels(mydat2[:x3])"
   ]
  },
  {
   "cell_type": "code",
   "execution_count": 24,
   "metadata": {
    "collapsed": false
   },
   "outputs": [
    {
     "ename": "LoadError",
     "evalue": "LoadError: MethodError: `levels` has no method matching levels(::Void)\nwhile loading In[24], in expression starting on line 1",
     "output_type": "error",
     "traceback": [
      "LoadError: MethodError: `levels` has no method matching levels(::Void)\nwhile loading In[24], in expression starting on line 1",
      ""
     ]
    }
   ],
   "source": [
    "levels(mydat2)"
   ]
  },
  {
   "cell_type": "code",
   "execution_count": 25,
   "metadata": {
    "collapsed": false
   },
   "outputs": [
    {
     "data": {
      "text/html": [
       "3 methods for generic function <b>levels</b>:<ul><li> levels(da::<b>DataArrays.DataArray{T,N}</b>) at <a href=\"https://github.com/JuliaStats/DataArrays.jl/tree/44192cf6261d6eed476018fb2770c5ca8dc4e9f2/src/dataarray.jl#L740\" target=\"_blank\">/Users/arindambose/.julia/v0.4/DataArrays/src/dataarray.jl:740</a><li> levels<i>{T}</i>(pda::<b>DataArrays.PooledDataArray{T,R<:Integer,N}</b>) at <a href=\"https://github.com/JuliaStats/DataArrays.jl/tree/44192cf6261d6eed476018fb2770c5ca8dc4e9f2/src/pooleddataarray.jl#L354\" target=\"_blank\">/Users/arindambose/.julia/v0.4/DataArrays/src/pooleddataarray.jl:354</a><li> levels(a::<b>AbstractArray{T,N}</b>) at <a href=\"https://github.com/JuliaStats/DataArrays.jl/tree/44192cf6261d6eed476018fb2770c5ca8dc4e9f2/src/dataarray.jl#L760\" target=\"_blank\">/Users/arindambose/.julia/v0.4/DataArrays/src/dataarray.jl:760</a></ul>"
      ],
      "text/plain": [
       "# 3 methods for generic function \"levels\":\n",
       "levels(da::DataArrays.DataArray{T,N}) at /Users/arindambose/.julia/v0.4/DataArrays/src/dataarray.jl:740\n",
       "levels{T}(pda::DataArrays.PooledDataArray{T,R<:Integer,N}) at /Users/arindambose/.julia/v0.4/DataArrays/src/pooleddataarray.jl:354\n",
       "levels(a::AbstractArray{T,N}) at /Users/arindambose/.julia/v0.4/DataArrays/src/dataarray.jl:760"
      ]
     },
     "execution_count": 25,
     "metadata": {},
     "output_type": "execute_result"
    }
   ],
   "source": [
    "methods(levels)"
   ]
  },
  {
   "cell_type": "code",
   "execution_count": 26,
   "metadata": {
    "collapsed": false
   },
   "outputs": [
    {
     "name": "stdout",
     "output_type": "stream",
     "text": [
      "x1\n",
      "Length  75\n",
      "Type    Any\n",
      "NAs     0\n",
      "NA%     0.0%\n",
      "Unique  75\n",
      "\n",
      "x2\n",
      "Length  75\n",
      "Type    Any\n",
      "NAs     0\n",
      "NA%     0.0%\n",
      "Unique  70\n",
      "\n",
      "x3\n",
      "Length  75\n",
      "Type    Pooled Any\n",
      "NAs     0\n",
      "NA%     0.0%\n",
      "Unique  4\n",
      "\n",
      "x4\n",
      "Length  75\n",
      "Type    Pooled Any\n",
      "NAs     0\n",
      "NA%     0.0%\n",
      "Unique  42\n",
      "\n",
      "x5\n",
      "Length  75\n",
      "Type    Any\n",
      "NAs     0\n",
      "NA%     0.0%\n",
      "Unique  12\n",
      "\n",
      "x6\n",
      "Length  75\n",
      "Type    Any\n",
      "NAs     0\n",
      "NA%     0.0%\n",
      "Unique  3\n",
      "\n",
      "x7\n",
      "Length  75\n",
      "Type    Any\n",
      "NAs     0\n",
      "NA%     0.0%\n",
      "Unique  7\n",
      "\n",
      "x8\n",
      "Length  75\n",
      "Type    Any\n",
      "NAs     0\n",
      "NA%     0.0%\n",
      "Unique  4\n",
      "\n",
      "x9\n",
      "Length  75\n",
      "Type    Any\n",
      "NAs     0\n",
      "NA%     0.0%\n",
      "Unique  5\n",
      "\n",
      "x10\n",
      "Length  75\n",
      "Type    Any\n",
      "NAs     0\n",
      "NA%     0.0%\n",
      "Unique  5\n",
      "\n",
      "x11\n",
      "Length  75\n",
      "Type    Any\n",
      "NAs     0\n",
      "NA%     0.0%\n",
      "Unique  33\n",
      "\n",
      "x12\n",
      "Length  75\n",
      "Type    Any\n",
      "NAs     0\n",
      "NA%     0.0%\n",
      "Unique  27\n",
      "\n",
      "x13\n",
      "Length  75\n",
      "Type    Any\n",
      "NAs     0\n",
      "NA%     0.0%\n",
      "Unique  9\n",
      "\n",
      "x14\n",
      "Length  75\n",
      "Type    Any\n",
      "NAs     0\n",
      "NA%     0.0%\n",
      "Unique  7\n",
      "\n",
      "x15\n",
      "Length  75\n",
      "Type    Any\n",
      "NAs     0\n",
      "NA%     0.0%\n",
      "Unique  5\n",
      "\n",
      "x16\n",
      "Length  75\n",
      "Type    Any\n",
      "NAs     0\n",
      "NA%     0.0%\n",
      "Unique  2\n",
      "\n",
      "x17\n",
      "Length  75\n",
      "Type    Any\n",
      "NAs     0\n",
      "NA%     0.0%\n",
      "Unique  7\n",
      "\n",
      "x18\n",
      "Length  75\n",
      "Type    Any\n",
      "NAs     0\n",
      "NA%     0.0%\n",
      "Unique  3\n",
      "\n",
      "x19\n",
      "Length  75\n",
      "Type    Any\n",
      "NAs     0\n",
      "NA%     0.0%\n",
      "Unique  2\n",
      "\n",
      "x20\n",
      "Length  75\n",
      "Type    Any\n",
      "NAs     0\n",
      "NA%     0.0%\n",
      "Unique  4\n",
      "\n",
      "x21\n",
      "Length  75\n",
      "Type    Any\n",
      "NAs     0\n",
      "NA%     0.0%\n",
      "Unique  4\n",
      "\n",
      "x22\n",
      "Length  75\n",
      "Type    Any\n",
      "NAs     0\n",
      "NA%     0.0%\n",
      "Unique  3\n",
      "\n",
      "x23\n",
      "Length  75\n",
      "Type    Any\n",
      "NAs     0\n",
      "NA%     0.0%\n",
      "Unique  3\n",
      "\n",
      "x24\n",
      "Length  75\n",
      "Type    Any\n",
      "NAs     0\n",
      "NA%     0.0%\n",
      "Unique  2\n",
      "\n"
     ]
    }
   ],
   "source": [
    "describe(mydat)"
   ]
  },
  {
   "cell_type": "code",
   "execution_count": 27,
   "metadata": {
    "collapsed": false
   },
   "outputs": [
    {
     "name": "stderr",
     "output_type": "stream",
     "text": [
      "INFO: Cloning FreqTables from git://github.com/nalimilan/FreqTables.jl.git\n",
      "INFO: Computing changes...\n",
      "INFO: No packages to install, update or remove\n"
     ]
    }
   ],
   "source": [
    "Pkg.clone(\"git://github.com/nalimilan/FreqTables.jl.git\")"
   ]
  },
  {
   "cell_type": "code",
   "execution_count": 28,
   "metadata": {
    "collapsed": false
   },
   "outputs": [
    {
     "name": "stderr",
     "output_type": "stream",
     "text": [
      "INFO: Precompiling module NamedArrays...\n",
      "WARNING: New definition \n",
      "    broadcast(Function, NamedArrays.NamedArray...) at /Users/arindambose/.julia/v0.4/NamedArrays/src/keepnames.jl:47\n",
      "is ambiguous with: \n",
      "    broadcast(Function, DataArrays.PooledDataArray...) at /Users/arindambose/.julia/v0.4/DataArrays/src/broadcast.jl:309.\n",
      "To fix, define \n",
      "    broadcast(Function)\n",
      "before the new definition.\n",
      "WARNING: New definition \n",
      "    +(AbstractArray{#T1<:Number, #N<:Any}, NamedArrays.NamedArray{#T2<:Number, #N<:Any, AT<:Any, DT<:Any}) at /Users/arindambose/.julia/v0.4/NamedArrays/src/arithmetic.jl:34\n",
      "is ambiguous with: \n",
      "    +(DataArrays.DataArray, AbstractArray) at /Users/arindambose/.julia/v0.4/DataArrays/src/operators.jl:326.\n",
      "To fix, define \n",
      "    +(DataArrays.DataArray{#T1<:Number, N<:Any}, NamedArrays.NamedArray{#T2<:Number, N<:Any, AT<:Any, DT<:Any})\n",
      "before the new definition.\n",
      "WARNING: New definition \n",
      "    +(AbstractArray{#T1<:Number, #N<:Any}, NamedArrays.NamedArray{#T2<:Number, #N<:Any, AT<:Any, DT<:Any}) at /Users/arindambose/.julia/v0.4/NamedArrays/src/arithmetic.jl:34\n",
      "is ambiguous with: \n",
      "    +(DataArrays.AbstractDataArray, AbstractArray) at /Users/arindambose/.julia/v0.4/DataArrays/src/operators.jl:349.\n",
      "To fix, define \n",
      "    +(DataArrays.AbstractDataArray{#T1<:Number, N<:Any}, NamedArrays.NamedArray{#T2<:Number, N<:Any, AT<:Any, DT<:Any})\n",
      "before the new definition.\n",
      "WARNING: New definition \n",
      "    ./(NamedArrays.NamedArray{#T1<:Number, #N<:Any, AT<:Any, DT<:Any}, AbstractArray{#T2<:Number, #N<:Any}) at /Users/arindambose/.julia/v0.4/NamedArrays/src/arithmetic.jl:33\n",
      "is ambiguous with: \n",
      "    ./(AbstractArray, Union{DataArrays.DataArray, DataArrays.PooledDataArray}) at /Users/arindambose/.julia/v0.4/DataArrays/src/broadcast.jl:285.\n",
      "To fix, define \n",
      "    ./(NamedArrays.NamedArray{#T1<:Number, N<:Any, AT<:Any, DT<:Any}, Union{DataArrays.PooledDataArray{#T2<:Number, R<:Integer, N<:Any}, DataArrays.DataArray{#T2<:Number, N<:Any}})\n",
      "before the new definition.\n",
      "WARNING: New definition \n",
      "    ./(AbstractArray{#T1<:Number, #N<:Any}, NamedArrays.NamedArray{#T2<:Number, #N<:Any, AT<:Any, DT<:Any}) at /Users/arindambose/.julia/v0.4/NamedArrays/src/arithmetic.jl:34\n",
      "is ambiguous with: \n",
      "    ./(Union{DataArrays.DataArray, DataArrays.PooledDataArray}, AbstractArray) at /Users/arindambose/.julia/v0.4/DataArrays/src/broadcast.jl:284.\n",
      "To fix, define \n",
      "    ./(Union{DataArrays.PooledDataArray{#T1<:Number, R<:Integer, N<:Any}, DataArrays.DataArray{#T1<:Number, N<:Any}}, NamedArrays.NamedArray{#T2<:Number, N<:Any, AT<:Any, DT<:Any})\n",
      "before the new definition.\n",
      "WARNING: New definition \n",
      "    ./(NamedArrays.NamedArray, AbstractArray) at /Users/arindambose/.julia/v0.4/NamedArrays/src/arithmetic.jl:62\n",
      "is ambiguous with: \n",
      "    ./(AbstractArray, Union{DataArrays.DataArray, DataArrays.PooledDataArray}) at /Users/arindambose/.julia/v0.4/DataArrays/src/broadcast.jl:285.\n",
      "To fix, define \n",
      "    ./(NamedArrays.NamedArray, Union{DataArrays.DataArray, DataArrays.PooledDataArray})\n",
      "before the new definition.\n",
      "WARNING: New definition \n",
      "    .+(NamedArrays.NamedArray{#T1<:Number, #N<:Any, AT<:Any, DT<:Any}, AbstractArray{#T2<:Number, #N<:Any}) at /Users/arindambose/.julia/v0.4/NamedArrays/src/arithmetic.jl:33\n",
      "is ambiguous with: \n",
      "    .+(AbstractArray, Union{DataArrays.DataArray, DataArrays.PooledDataArray}, AbstractArray...) at /Users/arindambose/.julia/v0.4/DataArrays/src/broadcast.jl:297.\n",
      "To fix, define \n",
      "    .+(NamedArrays.NamedArray{#T1<:Number, N<:Any, AT<:Any, DT<:Any}, Union{DataArrays.PooledDataArray{#T2<:Number, R<:Integer, N<:Any}, DataArrays.DataArray{#T2<:Number, N<:Any}})\n",
      "before the new definition.\n",
      "WARNING: New definition \n",
      "    .+(AbstractArray{#T1<:Number, #N<:Any}, NamedArrays.NamedArray{#T2<:Number, #N<:Any, AT<:Any, DT<:Any}) at /Users/arindambose/.julia/v0.4/NamedArrays/src/arithmetic.jl:34\n",
      "is ambiguous with: \n",
      "    .+(Union{DataArrays.DataArray, DataArrays.PooledDataArray}, AbstractArray...) at /Users/arindambose/.julia/v0.4/DataArrays/src/broadcast.jl:297.\n",
      "To fix, define \n",
      "    .+(Union{DataArrays.PooledDataArray{#T1<:Number, R<:Integer, N<:Any}, DataArrays.DataArray{#T1<:Number, N<:Any}}, NamedArrays.NamedArray{#T2<:Number, N<:Any, AT<:Any, DT<:Any})\n",
      "before the new definition.\n",
      "WARNING: New definition \n",
      "    .+(NamedArrays.NamedArray, AbstractArray) at /Users/arindambose/.julia/v0.4/NamedArrays/src/arithmetic.jl:62\n",
      "is ambiguous with: \n",
      "    .+(AbstractArray, Union{DataArrays.DataArray, DataArrays.PooledDataArray}, AbstractArray...) at /Users/arindambose/.julia/v0.4/DataArrays/src/broadcast.jl:297.\n",
      "To fix, define \n",
      "    .+(NamedArrays.NamedArray, Union{DataArrays.DataArray, DataArrays.PooledDataArray})\n",
      "before the new definition.\n",
      "WARNING: New definition \n",
      "    .*(NamedArrays.NamedArray{#T1<:Number, #N<:Any, AT<:Any, DT<:Any}, AbstractArray{#T2<:Number, #N<:Any}) at /Users/arindambose/.julia/v0.4/NamedArrays/src/arithmetic.jl:33\n",
      "is ambiguous with: \n",
      "    .*(AbstractArray, Union{DataArrays.DataArray, DataArrays.PooledDataArray}, AbstractArray...) at /Users/arindambose/.julia/v0.4/DataArrays/src/broadcast.jl:295.\n",
      "To fix, define \n",
      "    .*(NamedArrays.NamedArray{#T1<:Number, N<:Any, AT<:Any, DT<:Any}, Union{DataArrays.PooledDataArray{#T2<:Number, R<:Integer, N<:Any}, DataArrays.DataArray{#T2<:Number, N<:Any}})\n",
      "before the new definition.\n",
      "WARNING: New definition \n",
      "    .*(AbstractArray{#T1<:Number, #N<:Any}, NamedArrays.NamedArray{#T2<:Number, #N<:Any, AT<:Any, DT<:Any}) at /Users/arindambose/.julia/v0.4/NamedArrays/src/arithmetic.jl:34\n",
      "is ambiguous with: \n",
      "    .*(Union{DataArrays.DataArray, DataArrays.PooledDataArray}, AbstractArray...) at /Users/arindambose/.julia/v0.4/DataArrays/src/broadcast.jl:295.\n",
      "To fix, define \n",
      "    .*(Union{DataArrays.PooledDataArray{#T1<:Number, R<:Integer, N<:Any}, DataArrays.DataArray{#T1<:Number, N<:Any}}, NamedArrays.NamedArray{#T2<:Number, N<:Any, AT<:Any, DT<:Any})\n",
      "before the new definition.\n",
      "WARNING: New definition \n",
      "    .*(NamedArrays.NamedArray, AbstractArray) at /Users/arindambose/.julia/v0.4/NamedArrays/src/arithmetic.jl:62\n",
      "is ambiguous with: \n",
      "    .*(AbstractArray, Union{DataArrays.DataArray, DataArrays.PooledDataArray}, AbstractArray...) at /Users/arindambose/.julia/v0.4/DataArrays/src/broadcast.jl:295.\n",
      "To fix, define \n",
      "    .*(NamedArrays.NamedArray, Union{DataArrays.DataArray, DataArrays.PooledDataArray})\n",
      "before the new definition.\n",
      "WARNING: New definition \n",
      "    -(NamedArrays.NamedArray{#T1<:Number, #N<:Any, AT<:Any, DT<:Any}, AbstractArray{#T2<:Number, #N<:Any}) at /Users/arindambose/.julia/v0.4/NamedArrays/src/arithmetic.jl:33\n",
      "is ambiguous with: \n",
      "    -(AbstractArray, DataArrays.DataArray) at /Users/arindambose/.julia/v0.4/DataArrays/src/operators.jl:326.\n",
      "To fix, define \n",
      "    -(NamedArrays.NamedArray{#T1<:Number, N<:Any, AT<:Any, DT<:Any}, DataArrays.DataArray{#T2<:Number, N<:Any})\n",
      "before the new definition.\n",
      "WARNING: New definition \n",
      "    -(NamedArrays.NamedArray{#T1<:Number, #N<:Any, AT<:Any, DT<:Any}, AbstractArray{#T2<:Number, #N<:Any}) at /Users/arindambose/.julia/v0.4/NamedArrays/src/arithmetic.jl:33\n",
      "is ambiguous with: \n",
      "    -(AbstractArray, DataArrays.AbstractDataArray) at /Users/arindambose/.julia/v0.4/DataArrays/src/operators.jl:349.\n",
      "To fix, define \n",
      "    -(NamedArrays.NamedArray{#T1<:Number, N<:Any, AT<:Any, DT<:Any}, DataArrays.AbstractDataArray{#T2<:Number, N<:Any})\n",
      "before the new definition.\n",
      "WARNING: New definition \n",
      "    -(AbstractArray{#T1<:Number, #N<:Any}, NamedArrays.NamedArray{#T2<:Number, #N<:Any, AT<:Any, DT<:Any}) at /Users/arindambose/.julia/v0.4/NamedArrays/src/arithmetic.jl:34\n",
      "is ambiguous with: \n",
      "    -(DataArrays.DataArray, AbstractArray) at /Users/arindambose/.julia/v0.4/DataArrays/src/operators.jl:326.\n",
      "To fix, define \n",
      "    -(DataArrays.DataArray{#T1<:Number, N<:Any}, NamedArrays.NamedArray{#T2<:Number, N<:Any, AT<:Any, DT<:Any})\n",
      "before the new definition.\n",
      "WARNING: New definition \n",
      "    -(AbstractArray{#T1<:Number, #N<:Any}, NamedArrays.NamedArray{#T2<:Number, #N<:Any, AT<:Any, DT<:Any}) at /Users/arindambose/.julia/v0.4/NamedArrays/src/arithmetic.jl:34\n",
      "is ambiguous with: \n",
      "    -(DataArrays.AbstractDataArray, AbstractArray) at /Users/arindambose/.julia/v0.4/DataArrays/src/operators.jl:349.\n",
      "To fix, define \n",
      "    -(DataArrays.AbstractDataArray{#T1<:Number, N<:Any}, NamedArrays.NamedArray{#T2<:Number, N<:Any, AT<:Any, DT<:Any})\n",
      "before the new definition.\n",
      "WARNING: New definition \n",
      "    -(NamedArrays.NamedArray, AbstractArray) at /Users/arindambose/.julia/v0.4/NamedArrays/src/arithmetic.jl:62\n",
      "is ambiguous with: \n",
      "    -(AbstractArray, DataArrays.DataArray) at /Users/arindambose/.julia/v0.4/DataArrays/src/operators.jl:326.\n",
      "To fix, define \n",
      "    -(NamedArrays.NamedArray, DataArrays.DataArray)\n",
      "before the new definition.\n",
      "WARNING: New definition \n",
      "    -(NamedArrays.NamedArray, AbstractArray) at /Users/arindambose/.julia/v0.4/NamedArrays/src/arithmetic.jl:62\n",
      "is ambiguous with: \n",
      "    -(AbstractArray, DataArrays.AbstractDataArray) at /Users/arindambose/.julia/v0.4/DataArrays/src/operators.jl:349.\n",
      "To fix, define \n",
      "    -(NamedArrays.NamedArray, DataArrays.AbstractDataArray)\n",
      "before the new definition.\n",
      "WARNING: New definition \n",
      "    .-(NamedArrays.NamedArray{#T1<:Number, #N<:Any, AT<:Any, DT<:Any}, AbstractArray{#T2<:Number, #N<:Any}) at /Users/arindambose/.julia/v0.4/NamedArrays/src/arithmetic.jl:33\n",
      "is ambiguous with: \n",
      "    .-(AbstractArray, Union{DataArrays.DataArray, DataArrays.PooledDataArray}) at /Users/arindambose/.julia/v0.4/DataArrays/src/broadcast.jl:285.\n",
      "To fix, define \n",
      "    .-(NamedArrays.NamedArray{#T1<:Number, N<:Any, AT<:Any, DT<:Any}, Union{DataArrays.PooledDataArray{#T2<:Number, R<:Integer, N<:Any}, DataArrays.DataArray{#T2<:Number, N<:Any}})\n",
      "before the new definition.\n",
      "WARNING: New definition \n",
      "    .-(AbstractArray{#T1<:Number, #N<:Any}, NamedArrays.NamedArray{#T2<:Number, #N<:Any, AT<:Any, DT<:Any}) at /Users/arindambose/.julia/v0.4/NamedArrays/src/arithmetic.jl:34\n",
      "is ambiguous with: \n",
      "    .-(Union{DataArrays.DataArray, DataArrays.PooledDataArray}, AbstractArray) at /Users/arindambose/.julia/v0.4/DataArrays/src/broadcast.jl:284.\n",
      "To fix, define \n",
      "    .-(Union{DataArrays.PooledDataArray{#T1<:Number, R<:Integer, N<:Any}, DataArrays.DataArray{#T1<:Number, N<:Any}}, NamedArrays.NamedArray{#T2<:Number, N<:Any, AT<:Any, DT<:Any})\n",
      "before the new definition.\n",
      "WARNING: New definition \n",
      "    .-(NamedArrays.NamedArray, AbstractArray) at /Users/arindambose/.julia/v0.4/NamedArrays/src/arithmetic.jl:62\n",
      "is ambiguous with: \n",
      "    .-(AbstractArray, Union{DataArrays.DataArray, DataArrays.PooledDataArray}) at /Users/arindambose/.julia/v0.4/DataArrays/src/broadcast.jl:285.\n",
      "To fix, define \n",
      "    .-(NamedArrays.NamedArray, Union{DataArrays.DataArray, DataArrays.PooledDataArray})\n",
      "before the new definition.\n"
     ]
    }
   ],
   "source": [
    "using FreqTables"
   ]
  },
  {
   "cell_type": "code",
   "execution_count": 29,
   "metadata": {
    "collapsed": true
   },
   "outputs": [],
   "source": [
    "x = repeat([\"a\", \"b\", \"c\"], outer = [100]);"
   ]
  },
  {
   "cell_type": "code",
   "execution_count": 30,
   "metadata": {
    "collapsed": false
   },
   "outputs": [
    {
     "data": {
      "text/plain": [
       "300-element Array{ASCIIString,1}:\n",
       " \"a\"\n",
       " \"b\"\n",
       " \"c\"\n",
       " \"a\"\n",
       " \"b\"\n",
       " \"c\"\n",
       " \"a\"\n",
       " \"b\"\n",
       " \"c\"\n",
       " \"a\"\n",
       " \"b\"\n",
       " \"c\"\n",
       " \"a\"\n",
       " ⋮  \n",
       " \"a\"\n",
       " \"b\"\n",
       " \"c\"\n",
       " \"a\"\n",
       " \"b\"\n",
       " \"c\"\n",
       " \"a\"\n",
       " \"b\"\n",
       " \"c\"\n",
       " \"a\"\n",
       " \"b\"\n",
       " \"c\""
      ]
     },
     "execution_count": 30,
     "metadata": {},
     "output_type": "execute_result"
    }
   ],
   "source": [
    "x"
   ]
  },
  {
   "cell_type": "code",
   "execution_count": 31,
   "metadata": {
    "collapsed": false
   },
   "outputs": [
    {
     "data": {
      "text/plain": [
       "3-element NamedArrays.NamedArray{Int64,1,Array{Int64,1},Tuple{Dict{ASCIIString,Int64}}}\n",
       "a 100\n",
       "b 100\n",
       "c 100\n"
      ]
     },
     "execution_count": 31,
     "metadata": {},
     "output_type": "execute_result"
    }
   ],
   "source": [
    "freqtable(x)"
   ]
  },
  {
   "cell_type": "code",
   "execution_count": 32,
   "metadata": {
    "collapsed": true
   },
   "outputs": [],
   "source": [
    "y = repeat([\"x\", \"y\", \"z\"], outer = [100]);"
   ]
  },
  {
   "cell_type": "code",
   "execution_count": 33,
   "metadata": {
    "collapsed": false
   },
   "outputs": [
    {
     "data": {
      "text/plain": [
       "3x3 NamedArrays.NamedArray{Int64,2,Array{Int64,2},Tuple{Dict{ASCIIString,Int64},Dict{ASCIIString,Int64}}}\n",
       "Dim1 \\ Dim2 x   y   z  \n",
       "a           100 0   0  \n",
       "b           0   100 0  \n",
       "c           0   0   100\n"
      ]
     },
     "execution_count": 33,
     "metadata": {},
     "output_type": "execute_result"
    }
   ],
   "source": [
    "freqtable(x,y)"
   ]
  },
  {
   "cell_type": "code",
   "execution_count": 34,
   "metadata": {
    "collapsed": false
   },
   "outputs": [
    {
     "data": {
      "text/plain": [
       "76x24 Array{Any,2}:\n",
       "             \"GTD ID\"  …  \"\"                                                                                                            \n",
       " 201404090005             \"\"                                                                                                            \n",
       " 201403140027             \"\"                                                                                                            \n",
       " 201401210002             \"\"                                                                                                            \n",
       " 201308080011             \"\"                                                                                                            \n",
       " 201306300001          …  \"\"                                                                                                            \n",
       " 201306180001             \"\"                                                                                                            \n",
       " 201305120011             \"\"                                                                                                            \n",
       " 201305070004             \"\"                                                                                                            \n",
       " 201304290001             \"\"                                                                                                            \n",
       " 201304260001          …  \"\"                                                                                                            \n",
       " 201304160003             \"\"                                                                                                            \n",
       " 201302210003             \"\"                                                                                                            \n",
       "            ⋮          ⋱                                                                                                                \n",
       " 200707160003             \"\"                                                                                                            \n",
       " 200707150002          …  \"\"                                                                                                            \n",
       " 200704280002             \"\"                                                                                                            \n",
       " 200704060009             \"\"                                                                                                            \n",
       " 200703150001             \"\"                                                                                                            \n",
       " 200701050004             \"\"                                                                                                            \n",
       " 200611050001          …  \"\"                                                                                                            \n",
       " 200602280005             \"\"                                                                                                            \n",
       " 200602090002             \"\"                                                                                                            \n",
       " 200512080003             \"\"                                                                                                            \n",
       " 200511290001             \"\"                                                                                                            \n",
       " 200511150002          …  \" please try again or contact the GTD administrator. (Results: Input string was not in a correct format.)</p>\""
      ]
     },
     "execution_count": 34,
     "metadata": {},
     "output_type": "execute_result"
    }
   ],
   "source": [
    "mydata"
   ]
  },
  {
   "cell_type": "code",
   "execution_count": 35,
   "metadata": {
    "collapsed": false
   },
   "outputs": [
    {
     "data": {
      "text/html": [
       "<table class=\"data-frame\"><tr><th></th><th>x1</th><th>x2</th><th>x3</th><th>x4</th><th>x5</th><th>x6</th><th>x7</th><th>x8</th><th>x9</th><th>x10</th><th>x11</th><th>x12</th><th>x13</th><th>x14</th><th>x15</th><th>x16</th><th>x17</th><th>x18</th><th>x19</th><th>x20</th><th>x21</th><th>x22</th><th>x23</th><th>x24</th></tr><tr><th>1</th><td>201404090005</td><td>2014-04-09</td><td>Pakistan</td><td>Islamabad</td><td>United Baloch Army (UBA)</td><td>-9</td><td>21</td><td>46</td><td>Private Citizens &amp; Property</td><td>South Asia</td><td></td><td></td><td></td><td>Bombing/Explosion</td><td>Explosives/Bombs/Dynamite</td><td></td><td></td><td></td><td></td><td></td><td></td><td></td><td></td><td></td></tr><tr><th>2</th><td>201403140027</td><td>2014-03-14</td><td>Pakistan</td><td>Saraband</td><td>Tehrik-i-Taliban Pakistan (TTP)</td><td>-9</td><td></td><td></td><td></td><td></td><td>13</td><td>50</td><td>Police</td><td>Private Citizens &amp; Property</td><td></td><td>South Asia</td><td>Bombing/Explosion</td><td></td><td></td><td>Explosives/Bombs/Dynamite</td><td></td><td></td><td></td><td></td></tr><tr><th>3</th><td>201401210002</td><td>2014-01-21</td><td>Pakistan</td><td>Mastung district</td><td>Lashkar-e-Jhangvi</td><td>-9</td><td>Tehrik-i-Taliban Pakistan (TTP)</td><td>0</td><td></td><td></td><td>30</td><td>31</td><td>Private Citizens &amp; Property</td><td></td><td></td><td>South Asia</td><td>Bombing/Explosion</td><td></td><td></td><td>Explosives/Bombs/Dynamite</td><td></td><td></td><td></td><td></td></tr><tr><th>4</th><td>201308080011</td><td>2013-08-08</td><td>Pakistan</td><td>Quetta</td><td>Tehrik-i-Taliban Pakistan (TTP)</td><td>-9</td><td></td><td></td><td></td><td></td><td>39</td><td>50</td><td>Police</td><td>Private Citizens &amp; Property</td><td></td><td>South Asia</td><td>Bombing/Explosion</td><td></td><td></td><td>Explosives/Bombs/Dynamite</td><td></td><td></td><td></td><td></td></tr><tr><th>5</th><td>201306300001</td><td>2013-06-30</td><td>Pakistan</td><td>Badaber</td><td>Tehrik-i-Taliban Pakistan (TTP)</td><td>-9</td><td></td><td></td><td></td><td></td><td>20</td><td>50</td><td>Military</td><td>Private Citizens &amp; Property</td><td></td><td>South Asia</td><td>Bombing/Explosion</td><td></td><td></td><td>Explosives/Bombs/Dynamite</td><td></td><td></td><td></td><td></td></tr><tr><th>6</th><td>201306180001</td><td>2013-06-18</td><td>Pakistan</td><td>Mardan</td><td>Unknown</td><td>-9</td><td></td><td></td><td></td><td></td><td>35</td><td>43</td><td>Government (General)</td><td>Private Citizens &amp; Property</td><td></td><td>South Asia</td><td>Bombing/Explosion</td><td></td><td></td><td>Explosives/Bombs/Dynamite</td><td></td><td></td><td></td><td></td></tr><tr><th>7</th><td>201305120011</td><td>2013-05-12</td><td>Pakistan</td><td>Quetta</td><td>Lashkar-e-Jhangvi</td><td>-9</td><td>Islamic Movement of Uzbekistan (IMU)</td><td>0</td><td>Tehrik-i-Taliban Pakistan (TTP)</td><td>1</td><td>11</td><td>76</td><td>Police</td><td></td><td></td><td>South Asia</td><td>Assassination</td><td></td><td></td><td>Explosives/Bombs/Dynamite</td><td></td><td></td><td></td><td></td></tr><tr><th>8</th><td>201305070004</td><td>2013-05-06</td><td>Pakistan</td><td>Parachinar</td><td>Tehrik-i-Taliban Pakistan (TTP)</td><td>-9</td><td></td><td></td><td></td><td></td><td>23</td><td>70</td><td>Private Citizens &amp; Property</td><td></td><td></td><td>South Asia</td><td>Bombing/Explosion</td><td></td><td></td><td>Explosives/Bombs/Dynamite</td><td></td><td></td><td></td><td></td></tr><tr><th>9</th><td>201304290001</td><td>2013-04-29</td><td>Pakistan</td><td>Peshawar</td><td>Unknown</td><td>-9</td><td></td><td></td><td></td><td></td><td>9</td><td>43</td><td>Police</td><td>Government (Diplomatic)</td><td>Government (General)</td><td>South Asia</td><td>Bombing/Explosion</td><td></td><td></td><td>Explosives/Bombs/Dynamite</td><td></td><td></td><td></td><td></td></tr><tr><th>10</th><td>201304260001</td><td>2013-04-26</td><td>Pakistan</td><td>Karachi</td><td>Tehrik-i-Taliban Pakistan (TTP)</td><td>-9</td><td></td><td></td><td></td><td></td><td>11</td><td>40</td><td>Private Citizens &amp; Property</td><td></td><td></td><td>South Asia</td><td>Bombing/Explosion</td><td></td><td></td><td>Explosives/Bombs/Dynamite</td><td></td><td></td><td></td><td></td></tr><tr><th>11</th><td>201304160003</td><td>2013-04-16</td><td>Pakistan</td><td>Peshawar</td><td>Tehrik-i-Taliban Pakistan (TTP)</td><td>-9</td><td></td><td></td><td></td><td></td><td>18</td><td>60</td><td>Private Citizens &amp; Property</td><td></td><td></td><td>South Asia</td><td>Bombing/Explosion</td><td></td><td></td><td>Explosives/Bombs/Dynamite</td><td></td><td></td><td></td><td></td></tr><tr><th>12</th><td>201302210003</td><td>2013-02-21</td><td>India</td><td>Hyderabad</td><td>Lashkar-e-Taiba (LeT)</td><td>-9</td><td>Indian Mujahideen</td><td>1</td><td></td><td></td><td>8</td><td>58</td><td>Private Citizens &amp; Property</td><td></td><td></td><td>South Asia</td><td>Bombing/Explosion</td><td></td><td></td><td>Explosives/Bombs/Dynamite</td><td></td><td></td><td></td><td></td></tr><tr><th>13</th><td>201302210002</td><td>2013-02-21</td><td>India</td><td>Hyderabad</td><td>Lashkar-e-Taiba (LeT)</td><td>-9</td><td>Indian Mujahideen</td><td>1</td><td></td><td></td><td>8</td><td>58</td><td>Private Citizens &amp; Property</td><td></td><td></td><td>South Asia</td><td>Bombing/Explosion</td><td></td><td></td><td>Explosives/Bombs/Dynamite</td><td></td><td></td><td></td><td></td></tr><tr><th>14</th><td>201301100003</td><td>2013-01-10</td><td>Pakistan</td><td>Quetta</td><td>United Baloch Army (UBA)</td><td>-9</td><td></td><td></td><td></td><td></td><td>12</td><td>50</td><td>Military</td><td>Private Citizens &amp; Property</td><td></td><td>South Asia</td><td>Bombing/Explosion</td><td></td><td></td><td>Explosives/Bombs/Dynamite</td><td></td><td></td><td></td><td></td></tr><tr><th>15</th><td>201212150001</td><td>2012-12-15</td><td>Pakistan</td><td>Peshawar</td><td>Tehrik-i-Taliban Pakistan (TTP)</td><td>-9</td><td></td><td></td><td></td><td></td><td>14</td><td>40</td><td>Military</td><td>Private Citizens &amp; Property</td><td></td><td>South Asia</td><td>Bombing/Explosion</td><td></td><td></td><td>Explosives/Bombs/Dynamite</td><td>Explosives/Bombs/Dynamite</td><td>Firearms</td><td></td><td></td></tr><tr><th>16</th><td>201211250001</td><td>2012-11-25</td><td>Pakistan</td><td>Dera Ismail Khan</td><td>Tehrik-i-Taliban Pakistan (TTP)</td><td>-9</td><td></td><td></td><td></td><td></td><td>5</td><td>83</td><td>Private Citizens &amp; Property</td><td></td><td></td><td>South Asia</td><td>Bombing/Explosion</td><td></td><td></td><td>Explosives/Bombs/Dynamite</td><td></td><td></td><td></td><td></td></tr><tr><th>17</th><td>201211220001</td><td>2012-11-21</td><td>Pakistan</td><td>Rawalpindi</td><td>Tehrik-i-Taliban Pakistan (TTP)</td><td>-9</td><td></td><td></td><td></td><td></td><td>25</td><td>62</td><td>Private Citizens &amp; Property</td><td></td><td></td><td>South Asia</td><td>Bombing/Explosion</td><td></td><td></td><td>Explosives/Bombs/Dynamite</td><td></td><td></td><td></td><td></td></tr><tr><th>18</th><td>201209100002</td><td>2012-09-10</td><td>Pakistan</td><td>Parachinar</td><td>Tehrik-i-Taliban Pakistan (TTP)</td><td>-9</td><td></td><td></td><td></td><td></td><td>14</td><td>70</td><td>Police</td><td>Business</td><td>Private Citizens &amp; Property</td><td>South Asia</td><td>Bombing/Explosion</td><td></td><td></td><td>Explosives/Bombs/Dynamite</td><td></td><td></td><td></td><td></td></tr><tr><th>19</th><td>201206160002</td><td>2012-06-16</td><td>Pakistan</td><td>Landi Kotal</td><td>Unknown</td><td>-9</td><td></td><td></td><td></td><td></td><td>25</td><td>50</td><td>Private Citizens &amp; Property</td><td></td><td></td><td>South Asia</td><td>Bombing/Explosion</td><td></td><td></td><td>Explosives/Bombs/Dynamite</td><td></td><td></td><td></td><td></td></tr><tr><th>20</th><td>201205140002</td><td>2012-05-14</td><td>Pakistan</td><td>Quetta</td><td>Baloch Republican Army (BRA)</td><td>-9</td><td></td><td></td><td></td><td></td><td>6</td><td>58</td><td>Military</td><td>Private Citizens &amp; Property</td><td></td><td>South Asia</td><td>Bombing/Explosion</td><td></td><td></td><td>Explosives/Bombs/Dynamite</td><td></td><td></td><td></td><td></td></tr><tr><th>21</th><td>201205040001</td><td>2012-05-04</td><td>Pakistan</td><td>Khar</td><td>Tehrik-i-Taliban Pakistan (TTP)</td><td>-9</td><td></td><td></td><td></td><td></td><td>21</td><td>40</td><td>Police</td><td></td><td></td><td>South Asia</td><td>Bombing/Explosion</td><td></td><td></td><td>Explosives/Bombs/Dynamite</td><td></td><td></td><td></td><td></td></tr><tr><th>22</th><td>201203110007</td><td>2012-03-11</td><td>Pakistan</td><td>Badaber</td><td>Tehrik-i-Taliban Pakistan (TTP)</td><td>-9</td><td></td><td></td><td></td><td></td><td>18</td><td>35</td><td>Government (General)</td><td>Private Citizens &amp; Property</td><td></td><td>South Asia</td><td>Bombing/Explosion</td><td></td><td></td><td>Explosives/Bombs/Dynamite</td><td></td><td></td><td></td><td></td></tr><tr><th>23</th><td>201201100002</td><td>2012-01-10</td><td>Pakistan</td><td>Jamrud</td><td>Tehrik-i-Taliban Pakistan (TTP)</td><td>-9</td><td></td><td></td><td></td><td></td><td>35</td><td>60</td><td>Private Citizens &amp; Property</td><td></td><td></td><td>South Asia</td><td>Bombing/Explosion</td><td></td><td></td><td>Explosives/Bombs/Dynamite</td><td></td><td></td><td></td><td></td></tr><tr><th>24</th><td>201109200002</td><td>2011-09-20</td><td>Pakistan</td><td>Quetta</td><td>Lashkar-e-Jhangvi</td><td>0</td><td></td><td></td><td></td><td></td><td>26</td><td>30</td><td>Transportation</td><td>Private Citizens &amp; Property</td><td></td><td>South Asia</td><td>Armed Assault</td><td></td><td></td><td>Firearms</td><td></td><td></td><td></td><td></td></tr><tr><th>25</th><td>201108200002</td><td>2011-08-20</td><td>Pakistan</td><td>Karachi</td><td>Unknown</td><td>0</td><td></td><td></td><td></td><td></td><td>8</td><td>50</td><td>Police</td><td></td><td></td><td>South Asia</td><td>Armed Assault</td><td></td><td></td><td>Firearms</td><td></td><td></td><td></td><td></td></tr><tr><th>26</th><td>201107130009</td><td>2011-07-13</td><td>India</td><td>Mumbai</td><td>Indian Mujahideen</td><td>1</td><td></td><td></td><td></td><td></td><td>7</td><td>44</td><td>Private Citizens &amp; Property</td><td></td><td></td><td>South Asia</td><td>Bombing/Explosion</td><td></td><td></td><td>Explosives/Bombs/Dynamite</td><td></td><td></td><td></td><td></td></tr><tr><th>27</th><td>201106110006</td><td>2011-06-11</td><td>Pakistan</td><td>Peshawar</td><td>Tehrik-i-Taliban Pakistan (TTP)</td><td>0</td><td></td><td></td><td></td><td></td><td>18</td><td>40</td><td>Police</td><td>Private Citizens &amp; Property</td><td></td><td>South Asia</td><td>Bombing/Explosion</td><td></td><td></td><td>Explosives/Bombs/Dynamite</td><td></td><td></td><td></td><td></td></tr><tr><th>28</th><td>201106110005</td><td>2011-06-11</td><td>Pakistan</td><td>Peshawar</td><td>Tehrik-i-Taliban Pakistan (TTP)</td><td>0</td><td></td><td></td><td></td><td></td><td>18</td><td>40</td><td>Business</td><td>Private Citizens &amp; Property</td><td></td><td>South Asia</td><td>Bombing/Explosion</td><td></td><td></td><td>Explosives/Bombs/Dynamite</td><td></td><td></td><td></td><td></td></tr><tr><th>29</th><td>201105030019</td><td>2011-05-03</td><td>India</td><td>Lohardaga</td><td>Communist Party of India - Maoist (CPI-Maoist)</td><td>1</td><td></td><td></td><td></td><td></td><td>11</td><td>40</td><td>Police</td><td>Police</td><td>Police</td><td>South Asia</td><td>Bombing/Explosion</td><td>Armed Assault</td><td></td><td>Explosives/Bombs/Dynamite</td><td>Firearms</td><td></td><td></td><td></td></tr><tr><th>30</th><td>201103090020</td><td>2011-03-09</td><td>Pakistan</td><td>Peshawar</td><td>Tehrik-i-Taliban Pakistan (TTP)</td><td>0</td><td></td><td></td><td></td><td></td><td>26</td><td>50</td><td>Private Citizens &amp; Property</td><td></td><td></td><td>South Asia</td><td>Bombing/Explosion</td><td></td><td></td><td>Explosives/Bombs/Dynamite</td><td></td><td></td><td></td><td></td></tr><tr><th>&vellip;</th><td>&vellip;</td><td>&vellip;</td><td>&vellip;</td><td>&vellip;</td><td>&vellip;</td><td>&vellip;</td><td>&vellip;</td><td>&vellip;</td><td>&vellip;</td><td>&vellip;</td><td>&vellip;</td><td>&vellip;</td><td>&vellip;</td><td>&vellip;</td><td>&vellip;</td><td>&vellip;</td><td>&vellip;</td><td>&vellip;</td><td>&vellip;</td><td>&vellip;</td><td>&vellip;</td><td>&vellip;</td><td>&vellip;</td><td>&vellip;</td></tr></table>"
      ],
      "text/plain": [
       "75x24 DataFrames.DataFrame\n",
       "| Row | x1           | x2           | x3           | x4                   |\n",
       "|-----|--------------|--------------|--------------|----------------------|\n",
       "| 1   | 201404090005 | \"2014-04-09\" | \"Pakistan\"   | \"Islamabad\"          |\n",
       "| 2   | 201403140027 | \"2014-03-14\" | \"Pakistan\"   | \"Saraband\"           |\n",
       "| 3   | 201401210002 | \"2014-01-21\" | \"Pakistan\"   | \"Mastung district\"   |\n",
       "| 4   | 201308080011 | \"2013-08-08\" | \"Pakistan\"   | \"Quetta\"             |\n",
       "| 5   | 201306300001 | \"2013-06-30\" | \"Pakistan\"   | \"Badaber\"            |\n",
       "| 6   | 201306180001 | \"2013-06-18\" | \"Pakistan\"   | \"Mardan\"             |\n",
       "| 7   | 201305120011 | \"2013-05-12\" | \"Pakistan\"   | \"Quetta\"             |\n",
       "| 8   | 201305070004 | \"2013-05-06\" | \"Pakistan\"   | \"Parachinar\"         |\n",
       "| 9   | 201304290001 | \"2013-04-29\" | \"Pakistan\"   | \"Peshawar\"           |\n",
       "| 10  | 201304260001 | \"2013-04-26\" | \"Pakistan\"   | \"Karachi\"            |\n",
       "| 11  | 201304160003 | \"2013-04-16\" | \"Pakistan\"   | \"Peshawar\"           |\n",
       "⋮\n",
       "| 64  | 200707160003 | \"2007-07-16\" | \"Pakistan\"   | \"Dera Ismail Khan\"   |\n",
       "| 65  | 200707150002 | \"2007-07-15\" | \"Pakistan\"   | \"Dera Ismail Khan\"   |\n",
       "| 66  | 200704280002 | \"2007-04-28\" | \"Pakistan\"   | \"Charsadda\"          |\n",
       "| 67  | 200704060009 | \"2007-04-06\" | \"Pakistan\"   | \"Parachinar\"         |\n",
       "| 68  | 200703150001 | \"2007-03-15\" | \"India\"      | \"Rani Bodli\"         |\n",
       "| 69  | 200701050004 | \"2007-01-05\" | \"India\"      | \"Sadiya\"             |\n",
       "| 70  | 200611050001 | \"2006-11-05\" | \"India\"      | \"Guwahati\"           |\n",
       "| 71  | 200602280005 | \"2006-02-28\" | \"India\"      | \"Unknown\"            |\n",
       "| 72  | 200602090002 | \"2006-02-09\" | \"Pakistan\"   | \"Hangu\"              |\n",
       "| 73  | 200512080003 | \"2005-12-08\" | \"Bangladesh\" | \"Netrokona district\" |\n",
       "| 74  | 200511290001 | \"2005-11-29\" | \"Bangladesh\" | \"Gazipur\"            |\n",
       "| 75  | 200511150002 | \"2005-11-15\" | \"India\"      | \"Tangmarg\"           |\n",
       "\n",
       "| Row | x5                                               | x6 |\n",
       "|-----|--------------------------------------------------|----|\n",
       "| 1   | \"United Baloch Army (UBA)\"                       | -9 |\n",
       "| 2   | \"Tehrik-i-Taliban Pakistan (TTP)\"                | -9 |\n",
       "| 3   | \"Lashkar-e-Jhangvi\"                              | -9 |\n",
       "| 4   | \"Tehrik-i-Taliban Pakistan (TTP)\"                | -9 |\n",
       "| 5   | \"Tehrik-i-Taliban Pakistan (TTP)\"                | -9 |\n",
       "| 6   | \"Unknown\"                                        | -9 |\n",
       "| 7   | \"Lashkar-e-Jhangvi\"                              | -9 |\n",
       "| 8   | \"Tehrik-i-Taliban Pakistan (TTP)\"                | -9 |\n",
       "| 9   | \"Unknown\"                                        | -9 |\n",
       "| 10  | \"Tehrik-i-Taliban Pakistan (TTP)\"                | -9 |\n",
       "| 11  | \"Tehrik-i-Taliban Pakistan (TTP)\"                | -9 |\n",
       "⋮\n",
       "| 64  | \"Unknown\"                                        | 0  |\n",
       "| 65  | \"Unknown\"                                        | 0  |\n",
       "| 66  | \"Unknown\"                                        | 0  |\n",
       "| 67  | \"Unknown\"                                        | 0  |\n",
       "| 68  | \"Naxalites\"                                      | 0  |\n",
       "| 69  | \"United Liberation Front of Assam (ULFA)\"        | 0  |\n",
       "| 70  | \"Unknown\"                                        | 0  |\n",
       "| 71  | \"Communist Party of India - Maoist (CPI-Maoist)\" | 1  |\n",
       "| 72  | \"Unknown\"                                        | 0  |\n",
       "| 73  | \"Jama'atul Mujahideen Bangladesh (JMB)\"          | 0  |\n",
       "| 74  | \"Jama'atul Mujahideen Bangladesh (JMB)\"          | 1  |\n",
       "| 75  | \"Unknown\"                                        | 0  |\n",
       "\n",
       "| Row | x7                                     | x8 |\n",
       "|-----|----------------------------------------|----|\n",
       "| 1   | 21                                     | 46 |\n",
       "| 2   | \"\"                                     | \"\" |\n",
       "| 3   | \"Tehrik-i-Taliban Pakistan (TTP)\"      | 0  |\n",
       "| 4   | \"\"                                     | \"\" |\n",
       "| 5   | \"\"                                     | \"\" |\n",
       "| 6   | \"\"                                     | \"\" |\n",
       "| 7   | \"Islamic Movement of Uzbekistan (IMU)\" | 0  |\n",
       "| 8   | \"\"                                     | \"\" |\n",
       "| 9   | \"\"                                     | \"\" |\n",
       "| 10  | \"\"                                     | \"\" |\n",
       "| 11  | \"\"                                     | \"\" |\n",
       "⋮\n",
       "| 64  | \"\"                                     | \"\" |\n",
       "| 65  | \"\"                                     | \"\" |\n",
       "| 66  | \"\"                                     | \"\" |\n",
       "| 67  | \"\"                                     | \"\" |\n",
       "| 68  | \"\"                                     | \"\" |\n",
       "| 69  | \"\"                                     | \"\" |\n",
       "| 70  | \"\"                                     | \"\" |\n",
       "| 71  | \"\"                                     | \"\" |\n",
       "| 72  | \"\"                                     | \"\" |\n",
       "| 73  | \"\"                                     | \"\" |\n",
       "| 74  | \"\"                                     | \"\" |\n",
       "| 75  | \"\"                                     | \"\" |\n",
       "\n",
       "| Row | x9                                | x10          |\n",
       "|-----|-----------------------------------|--------------|\n",
       "| 1   | \"Private Citizens & Property\"     | \"South Asia\" |\n",
       "| 2   | \"\"                                | \"\"           |\n",
       "| 3   | \"\"                                | \"\"           |\n",
       "| 4   | \"\"                                | \"\"           |\n",
       "| 5   | \"\"                                | \"\"           |\n",
       "| 6   | \"\"                                | \"\"           |\n",
       "| 7   | \"Tehrik-i-Taliban Pakistan (TTP)\" | 1            |\n",
       "| 8   | \"\"                                | \"\"           |\n",
       "| 9   | \"\"                                | \"\"           |\n",
       "| 10  | \"\"                                | \"\"           |\n",
       "| 11  | \"\"                                | \"\"           |\n",
       "⋮\n",
       "| 64  | \"\"                                | \"\"           |\n",
       "| 65  | \"\"                                | \"\"           |\n",
       "| 66  | \"\"                                | \"\"           |\n",
       "| 67  | \"\"                                | \"\"           |\n",
       "| 68  | \"\"                                | \"\"           |\n",
       "| 69  | \"\"                                | \"\"           |\n",
       "| 70  | \"\"                                | \"\"           |\n",
       "| 71  | 55                                | 20           |\n",
       "| 72  | \"\"                                | \"\"           |\n",
       "| 73  | \"\"                                | \"\"           |\n",
       "| 74  | \"\"                                | \"\"           |\n",
       "| 75  | \"\"                                | \"\"           |\n",
       "\n",
       "| Row | x11                           | x12 | x13                           |\n",
       "|-----|-------------------------------|-----|-------------------------------|\n",
       "| 1   | \"\"                            | \"\"  | \"\"                            |\n",
       "| 2   | 13                            | 50  | \"Police\"                      |\n",
       "| 3   | 30                            | 31  | \"Private Citizens & Property\" |\n",
       "| 4   | 39                            | 50  | \"Police\"                      |\n",
       "| 5   | 20                            | 50  | \"Military\"                    |\n",
       "| 6   | 35                            | 43  | \"Government (General)\"        |\n",
       "| 7   | 11                            | 76  | \"Police\"                      |\n",
       "| 8   | 23                            | 70  | \"Private Citizens & Property\" |\n",
       "| 9   | 9                             | 43  | \"Police\"                      |\n",
       "| 10  | 11                            | 40  | \"Private Citizens & Property\" |\n",
       "| 11  | 18                            | 60  | \"Private Citizens & Property\" |\n",
       "⋮\n",
       "| 64  | 21                            | 35  | \"Police\"                      |\n",
       "| 65  | 27                            | 60  | \"Police\"                      |\n",
       "| 66  | 31                            | 50  | \"Government (General)\"        |\n",
       "| 67  | 10                            | 83  | \"Private Citizens & Property\" |\n",
       "| 68  | 55                            | 12  | \"Police\"                      |\n",
       "| 69  | 48                            | 19  | \"Private Citizens & Property\" |\n",
       "| 70  | 11                            | 53  | \"Private Citizens & Property\" |\n",
       "| 71  | \"Private Citizens & Property\" | \"\"  | \"South Asia\"                  |\n",
       "| 72  | 31                            | 50  | \"Private Citizens & Property\" |\n",
       "| 73  | 8                             | 50  | \"Private Citizens & Property\" |\n",
       "| 74  | 7                             | 50  | \"Government (General)\"        |\n",
       "| 75  | 2                             | 60  | \"Private Citizens & Property\" |\n",
       "\n",
       "| Row | x14                           | x15                         |\n",
       "|-----|-------------------------------|-----------------------------|\n",
       "| 1   | \"Bombing/Explosion\"           | \"Explosives/Bombs/Dynamite\" |\n",
       "| 2   | \"Private Citizens & Property\" | \"\"                          |\n",
       "| 3   | \"\"                            | \"\"                          |\n",
       "| 4   | \"Private Citizens & Property\" | \"\"                          |\n",
       "| 5   | \"Private Citizens & Property\" | \"\"                          |\n",
       "| 6   | \"Private Citizens & Property\" | \"\"                          |\n",
       "| 7   | \"\"                            | \"\"                          |\n",
       "| 8   | \"\"                            | \"\"                          |\n",
       "| 9   | \"Government (Diplomatic)\"     | \"Government (General)\"      |\n",
       "| 10  | \"\"                            | \"\"                          |\n",
       "| 11  | \"\"                            | \"\"                          |\n",
       "⋮\n",
       "| 64  | \"\"                            | \"\"                          |\n",
       "| 65  | \"\"                            | \"\"                          |\n",
       "| 66  | \"Private Citizens & Property\" | \"\"                          |\n",
       "| 67  | \"\"                            | \"\"                          |\n",
       "| 68  | \"\"                            | \"\"                          |\n",
       "| 69  | \"\"                            | \"\"                          |\n",
       "| 70  | \"\"                            | \"\"                          |\n",
       "| 71  | \"Bombing/Explosion\"           | \"\"                          |\n",
       "| 72  | \"Private Citizens & Property\" | \"\"                          |\n",
       "| 73  | \"\"                            | \"\"                          |\n",
       "| 74  | \"Private Citizens & Property\" | \"Police\"                    |\n",
       "| 75  | \"Government (General)\"        | \"\"                          |\n",
       "\n",
       "| Row | x16          | x17                         | x18             | x19 |\n",
       "|-----|--------------|-----------------------------|-----------------|-----|\n",
       "| 1   | \"\"           | \"\"                          | \"\"              | \"\"  |\n",
       "| 2   | \"South Asia\" | \"Bombing/Explosion\"         | \"\"              | \"\"  |\n",
       "| 3   | \"South Asia\" | \"Bombing/Explosion\"         | \"\"              | \"\"  |\n",
       "| 4   | \"South Asia\" | \"Bombing/Explosion\"         | \"\"              | \"\"  |\n",
       "| 5   | \"South Asia\" | \"Bombing/Explosion\"         | \"\"              | \"\"  |\n",
       "| 6   | \"South Asia\" | \"Bombing/Explosion\"         | \"\"              | \"\"  |\n",
       "| 7   | \"South Asia\" | \"Assassination\"             | \"\"              | \"\"  |\n",
       "| 8   | \"South Asia\" | \"Bombing/Explosion\"         | \"\"              | \"\"  |\n",
       "| 9   | \"South Asia\" | \"Bombing/Explosion\"         | \"\"              | \"\"  |\n",
       "| 10  | \"South Asia\" | \"Bombing/Explosion\"         | \"\"              | \"\"  |\n",
       "| 11  | \"South Asia\" | \"Bombing/Explosion\"         | \"\"              | \"\"  |\n",
       "⋮\n",
       "| 64  | \"South Asia\" | \"Bombing/Explosion\"         | \"\"              | \"\"  |\n",
       "| 65  | \"South Asia\" | \"Bombing/Explosion\"         | \"\"              | \"\"  |\n",
       "| 66  | \"South Asia\" | \"Bombing/Explosion\"         | \"\"              | \"\"  |\n",
       "| 67  | \"South Asia\" | \"Armed Assault\"             | \"\"              | \"\"  |\n",
       "| 68  | \"South Asia\" | \"Armed Assault\"             | \"\"              | \"\"  |\n",
       "| 69  | \"South Asia\" | \"Armed Assault\"             | \"\"              | \"\"  |\n",
       "| 70  | \"South Asia\" | \"Bombing/Explosion\"         | \"\"              | \"\"  |\n",
       "| 71  | \"\"           | \"Explosives/Bombs/Dynamite\" | \"\"              | \"\"  |\n",
       "| 72  | \"South Asia\" | \"Bombing/Explosion\"         | \"\"              | \"\"  |\n",
       "| 73  | \"South Asia\" | \"Bombing/Explosion\"         | \"\"              | \"\"  |\n",
       "| 74  | \"South Asia\" | \"Bombing/Explosion\"         | \"\"              | \"\"  |\n",
       "| 75  | \"South Asia\" | \"Bombing/Explosion\"         | \"Armed Assault\" | \"\"  |\n",
       "\n",
       "| Row | x20                         | x21                         | x22        |\n",
       "|-----|-----------------------------|-----------------------------|------------|\n",
       "| 1   | \"\"                          | \"\"                          | \"\"         |\n",
       "| 2   | \"Explosives/Bombs/Dynamite\" | \"\"                          | \"\"         |\n",
       "| 3   | \"Explosives/Bombs/Dynamite\" | \"\"                          | \"\"         |\n",
       "| 4   | \"Explosives/Bombs/Dynamite\" | \"\"                          | \"\"         |\n",
       "| 5   | \"Explosives/Bombs/Dynamite\" | \"\"                          | \"\"         |\n",
       "| 6   | \"Explosives/Bombs/Dynamite\" | \"\"                          | \"\"         |\n",
       "| 7   | \"Explosives/Bombs/Dynamite\" | \"\"                          | \"\"         |\n",
       "| 8   | \"Explosives/Bombs/Dynamite\" | \"\"                          | \"\"         |\n",
       "| 9   | \"Explosives/Bombs/Dynamite\" | \"\"                          | \"\"         |\n",
       "| 10  | \"Explosives/Bombs/Dynamite\" | \"\"                          | \"\"         |\n",
       "| 11  | \"Explosives/Bombs/Dynamite\" | \"\"                          | \"\"         |\n",
       "⋮\n",
       "| 64  | \"Explosives/Bombs/Dynamite\" | \"\"                          | \"\"         |\n",
       "| 65  | \"Explosives/Bombs/Dynamite\" | \"\"                          | \"\"         |\n",
       "| 66  | \"Explosives/Bombs/Dynamite\" | \"\"                          | \"\"         |\n",
       "| 67  | \"Firearms\"                  | \"\"                          | \"\"         |\n",
       "| 68  | \"Incendiary\"                | \"Explosives/Bombs/Dynamite\" | \"Firearms\" |\n",
       "| 69  | \"Firearms\"                  | \"\"                          | \"\"         |\n",
       "| 70  | \"Explosives/Bombs/Dynamite\" | \"\"                          | \"\"         |\n",
       "| 71  | \"\"                          | \"\"                          | \"\"         |\n",
       "| 72  | \"Explosives/Bombs/Dynamite\" | \"\"                          | \"\"         |\n",
       "| 73  | \"Explosives/Bombs/Dynamite\" | \"\"                          | \"\"         |\n",
       "| 74  | \"Explosives/Bombs/Dynamite\" | \"\"                          | \"\"         |\n",
       "| 75  | \"Explosives/Bombs/Dynamite\" | \"Firearms\"                  | \"\"         |\n",
       "\n",
       "| Row | x23                                                                                      |\n",
       "|-----|------------------------------------------------------------------------------------------|\n",
       "| 1   | \"\"                                                                                       |\n",
       "| 2   | \"\"                                                                                       |\n",
       "| 3   | \"\"                                                                                       |\n",
       "| 4   | \"\"                                                                                       |\n",
       "| 5   | \"\"                                                                                       |\n",
       "| 6   | \"\"                                                                                       |\n",
       "| 7   | \"\"                                                                                       |\n",
       "| 8   | \"\"                                                                                       |\n",
       "| 9   | \"\"                                                                                       |\n",
       "| 10  | \"\"                                                                                       |\n",
       "| 11  | \"\"                                                                                       |\n",
       "⋮\n",
       "| 64  | \"\"                                                                                       |\n",
       "| 65  | \"\"                                                                                       |\n",
       "| 66  | \"\"                                                                                       |\n",
       "| 67  | \"\"                                                                                       |\n",
       "| 68  | \"\"                                                                                       |\n",
       "| 69  | \"\"                                                                                       |\n",
       "| 70  | \"\"                                                                                       |\n",
       "| 71  | \"\"                                                                                       |\n",
       "| 72  | \"\"                                                                                       |\n",
       "| 73  | \"\"                                                                                       |\n",
       "| 74  | \"\"                                                                                       |\n",
       "| 75  | \"<p class=\\\"errors\\\" style=\\\"margin-left: 40px;\\\">There was an error performing this search\" |\n",
       "\n",
       "| Row | x24                                                                                                            |\n",
       "|-----|----------------------------------------------------------------------------------------------------------------|\n",
       "| 1   | \"\"                                                                                                             |\n",
       "| 2   | \"\"                                                                                                             |\n",
       "| 3   | \"\"                                                                                                             |\n",
       "| 4   | \"\"                                                                                                             |\n",
       "| 5   | \"\"                                                                                                             |\n",
       "| 6   | \"\"                                                                                                             |\n",
       "| 7   | \"\"                                                                                                             |\n",
       "| 8   | \"\"                                                                                                             |\n",
       "| 9   | \"\"                                                                                                             |\n",
       "| 10  | \"\"                                                                                                             |\n",
       "| 11  | \"\"                                                                                                             |\n",
       "⋮\n",
       "| 64  | \"\"                                                                                                             |\n",
       "| 65  | \"\"                                                                                                             |\n",
       "| 66  | \"\"                                                                                                             |\n",
       "| 67  | \"\"                                                                                                             |\n",
       "| 68  | \"\"                                                                                                             |\n",
       "| 69  | \"\"                                                                                                             |\n",
       "| 70  | \"\"                                                                                                             |\n",
       "| 71  | \"\"                                                                                                             |\n",
       "| 72  | \"\"                                                                                                             |\n",
       "| 73  | \"\"                                                                                                             |\n",
       "| 74  | \"\"                                                                                                             |\n",
       "| 75  | \" please try again or contact the GTD administrator. (Results: Input string was not in a correct format.)</p>\" |"
      ]
     },
     "execution_count": 35,
     "metadata": {},
     "output_type": "execute_result"
    }
   ],
   "source": [
    "mydat"
   ]
  },
  {
   "cell_type": "code",
   "execution_count": 39,
   "metadata": {
    "collapsed": false
   },
   "outputs": [
    {
     "ename": "LoadError",
     "evalue": "LoadError: MethodError: `isless` has no method matching isless(::Int64, ::SubString{ASCIIString})\nClosest candidates are:\n  isless(::Real, !Matched::AbstractFloat)\n  isless(::Real, !Matched::Real)\n  isless(::Integer, !Matched::Char)\n  ...\nwhile loading In[39], in expression starting on line 1",
     "output_type": "error",
     "traceback": [
      "LoadError: MethodError: `isless` has no method matching isless(::Int64, ::SubString{ASCIIString})\nClosest candidates are:\n  isless(::Real, !Matched::AbstractFloat)\n  isless(::Real, !Matched::Real)\n  isless(::Integer, !Matched::Char)\n  ...\nwhile loading In[39], in expression starting on line 1",
      "",
      " in sort! at /Applications/Julia-0.4.1.app/Contents/Resources/julia/lib/julia/sys.dylib (repeats 4 times)",
      " in freqtable at /Users/arindambose/.julia/v0.4/FreqTables/src/freqtable.jl:63"
     ]
    }
   ],
   "source": [
    "countrycity = freqtable(mydat[:x5], mydat[:x7])"
   ]
  },
  {
   "cell_type": "code",
   "execution_count": 40,
   "metadata": {
    "collapsed": false
   },
   "outputs": [
    {
     "ename": "LoadError",
     "evalue": "LoadError: MethodError: `isless` has no method matching isless(::Int64, ::SubString{ASCIIString})\nClosest candidates are:\n  isless(::Real, !Matched::AbstractFloat)\n  isless(::Real, !Matched::Real)\n  isless(::Integer, !Matched::Char)\n  ...\nwhile loading In[40], in expression starting on line 1",
     "output_type": "error",
     "traceback": [
      "LoadError: MethodError: `isless` has no method matching isless(::Int64, ::SubString{ASCIIString})\nClosest candidates are:\n  isless(::Real, !Matched::AbstractFloat)\n  isless(::Real, !Matched::Real)\n  isless(::Integer, !Matched::Char)\n  ...\nwhile loading In[40], in expression starting on line 1",
      "",
      " in sort! at /Applications/Julia-0.4.1.app/Contents/Resources/julia/lib/julia/sys.dylib (repeats 4 times)",
      " in freqtable at /Users/arindambose/.julia/v0.4/FreqTables/src/freqtable.jl:63",
      " in freqtable at /Users/arindambose/.julia/v0.4/FreqTables/src/freqtable.jl:268"
     ]
    }
   ],
   "source": [
    "ccity = freqtable(mydat, :x5, :x7)"
   ]
  },
  {
   "cell_type": "code",
   "execution_count": 41,
   "metadata": {
    "collapsed": false
   },
   "outputs": [
    {
     "name": "stderr",
     "output_type": "stream",
     "text": [
      "WARNING: Base.String is deprecated, use AbstractString instead.\n",
      "  likely near /Users/arindambose/.julia/v0.4/RDatasets/src/dataset.jl:1\n",
      "WARNING: Base.String is deprecated, use AbstractString instead.\n",
      "  likely near /Users/arindambose/.julia/v0.4/RDatasets/src/dataset.jl:1\n",
      "WARNING: Base.String is deprecated, use AbstractString instead.\n",
      "  likely near /Users/arindambose/.julia/v0.4/RDatasets/src/datasets.jl:1\n"
     ]
    }
   ],
   "source": [
    "using RDatasets"
   ]
  },
  {
   "cell_type": "code",
   "execution_count": 44,
   "metadata": {
    "collapsed": false
   },
   "outputs": [
    {
     "data": {
      "text/plain": [
       "3x2 NamedArrays.NamedArray{Int64,2,Array{Int64,2},Tuple{Dict{ASCIIString,Int64},Dict{Bool,Int64}}}\n",
       "Species \\ LongSepal false true \n",
       "setosa              28    22   \n",
       "versicolor          3     47   \n",
       "virginica           1     49   \n"
      ]
     },
     "execution_count": 44,
     "metadata": {},
     "output_type": "execute_result"
    }
   ],
   "source": [
    "iris = dataset(\"datasets\", \"iris\")\n",
    "iris[:LongSepal] = iris[:SepalLength] .> 5.0\n",
    "freqtable(iris, :Species, :LongSepal)"
   ]
  },
  {
   "cell_type": "code",
   "execution_count": 45,
   "metadata": {
    "collapsed": false
   },
   "outputs": [
    {
     "data": {
      "text/plain": [
       "DataArrays.DataArray{Bool,1}"
      ]
     },
     "execution_count": 45,
     "metadata": {},
     "output_type": "execute_result"
    }
   ],
   "source": [
    "typeof(iris[:LongSepal])"
   ]
  },
  {
   "cell_type": "code",
   "execution_count": 49,
   "metadata": {
    "collapsed": false
   },
   "outputs": [
    {
     "data": {
      "text/plain": [
       "Array{Any,1}"
      ]
     },
     "execution_count": 49,
     "metadata": {},
     "output_type": "execute_result"
    }
   ],
   "source": [
    "typeof(mydat[:x7])"
   ]
  },
  {
   "cell_type": "code",
   "execution_count": 47,
   "metadata": {
    "collapsed": false
   },
   "outputs": [
    {
     "data": {
      "text/plain": [
       "24-element Array{Symbol,1}:\n",
       " :x1 \n",
       " :x2 \n",
       " :x3 \n",
       " :x4 \n",
       " :x5 \n",
       " :x6 \n",
       " :x7 \n",
       " :x8 \n",
       " :x9 \n",
       " :x10\n",
       " :x11\n",
       " :x12\n",
       " :x13\n",
       " :x14\n",
       " :x15\n",
       " :x16\n",
       " :x17\n",
       " :x18\n",
       " :x19\n",
       " :x20\n",
       " :x21\n",
       " :x22\n",
       " :x23\n",
       " :x24"
      ]
     },
     "execution_count": 47,
     "metadata": {},
     "output_type": "execute_result"
    }
   ],
   "source": [
    "names(mydat)"
   ]
  },
  {
   "cell_type": "code",
   "execution_count": 50,
   "metadata": {
    "collapsed": false
   },
   "outputs": [
    {
     "ename": "LoadError",
     "evalue": "LoadError: MethodError: `isless` has no method matching isless(::Int64, ::SubString{ASCIIString})\nClosest candidates are:\n  isless(::Real, !Matched::AbstractFloat)\n  isless(::Real, !Matched::Real)\n  isless(::Integer, !Matched::Char)\n  ...\nwhile loading In[50], in expression starting on line 1",
     "output_type": "error",
     "traceback": [
      "LoadError: MethodError: `isless` has no method matching isless(::Int64, ::SubString{ASCIIString})\nClosest candidates are:\n  isless(::Real, !Matched::AbstractFloat)\n  isless(::Real, !Matched::Real)\n  isless(::Integer, !Matched::Char)\n  ...\nwhile loading In[50], in expression starting on line 1",
      "",
      " in sort! at /Applications/Julia-0.4.1.app/Contents/Resources/julia/lib/julia/sys.dylib (repeats 4 times)",
      " in freqtable at /Users/arindambose/.julia/v0.4/FreqTables/src/freqtable.jl:63",
      " in freqtable at /Users/arindambose/.julia/v0.4/FreqTables/src/freqtable.jl:268"
     ]
    }
   ],
   "source": [
    "freqtable(mydat, :x7, :x8)"
   ]
  },
  {
   "cell_type": "code",
   "execution_count": 51,
   "metadata": {
    "collapsed": false
   },
   "outputs": [
    {
     "data": {
      "text/plain": [
       "2x2 Array{Int64,2}:\n",
       " 0  0\n",
       " 0  0"
      ]
     },
     "execution_count": 51,
     "metadata": {},
     "output_type": "execute_result"
    }
   ],
   "source": [
    "zeros(Int, 2,2)"
   ]
  },
  {
   "cell_type": "code",
   "execution_count": 52,
   "metadata": {
    "collapsed": false
   },
   "outputs": [
    {
     "name": "stdout",
     "output_type": "stream",
     "text": [
      "search: "
     ]
    },
    {
     "ename": "LoadError",
     "evalue": "LoadError: \"NamedArray\" is not defined in module Main\nwhile loading In[52], in expression starting on line 119",
     "output_type": "error",
     "traceback": [
      "LoadError: \"NamedArray\" is not defined in module Main\nwhile loading In[52], in expression starting on line 119",
      "",
      " in error at /Applications/Julia-0.4.1.app/Contents/Resources/julia/lib/julia/sys.dylib",
      " in which_module at /Applications/Julia-0.4.1.app/Contents/Resources/julia/lib/julia/sys.dylib",
      " in call at /Applications/Julia-0.4.1.app/Contents/Resources/julia/lib/julia/sys.dylib"
     ]
    },
    {
     "name": "stdout",
     "output_type": "stream",
     "text": [
      "NamedArrays\n",
      "\n",
      "Couldn't find NamedArray\n",
      "Perhaps you meant NamedArrays, SharedArray or DataArray\n"
     ]
    }
   ],
   "source": [
    "?NamedArray"
   ]
  },
  {
   "cell_type": "code",
   "execution_count": 53,
   "metadata": {
    "collapsed": true
   },
   "outputs": [],
   "source": [
    "using NamedArrays"
   ]
  },
  {
   "cell_type": "code",
   "execution_count": 54,
   "metadata": {
    "collapsed": false
   },
   "outputs": [
    {
     "name": "stdout",
     "output_type": "stream",
     "text": [
      "search: "
     ]
    },
    {
     "data": {
      "text/latex": [
       "\\texttt{NamedArray(T::Type, dims::Int...)} creates an uninitialized array with default names for the dimensions (\\texttt{:A}, \\texttt{:B}, ...) and indices (\\texttt{\"1\"}, \\texttt{\"2\"}, ...).\n"
      ],
      "text/markdown": [
       "`NamedArray(T::Type, dims::Int...)` creates an uninitialized array with default names for the dimensions (`:A`, `:B`, ...) and indices (`\"1\"`, `\"2\"`, ...).\n"
      ],
      "text/plain": [
       "`NamedArray(T::Type, dims::Int...)` creates an uninitialized array with default names for the dimensions (`:A`, `:B`, ...) and indices (`\"1\"`, `\"2\"`, ...).\n"
      ]
     },
     "execution_count": 54,
     "metadata": {},
     "output_type": "execute_result"
    },
    {
     "name": "stdout",
     "output_type": "stream",
     "text": [
      "NamedArray NamedArrays NamedMatrix\n",
      "\n"
     ]
    }
   ],
   "source": [
    "?NamedArray"
   ]
  },
  {
   "cell_type": "code",
   "execution_count": 55,
   "metadata": {
    "collapsed": false
   },
   "outputs": [
    {
     "data": {
      "text/plain": [
       "2x2 NamedArrays.NamedArray{Int64,2,Array{Int64,2},Tuple{Dict{Bool,Int64},Dict{Bool,Int64}}}\n",
       "cond1 \\ cond2 false true \n",
       "false         0     0    \n",
       "true          0     0    \n"
      ]
     },
     "execution_count": 55,
     "metadata": {},
     "output_type": "execute_result"
    }
   ],
   "source": [
    "nres= NamedArray(zeros(Int,2,2),Any[[false,true],[false,true]],[\"cond1\",\"cond2\"])"
   ]
  },
  {
   "cell_type": "code",
   "execution_count": 56,
   "metadata": {
    "collapsed": false
   },
   "outputs": [
    {
     "name": "stdout",
     "output_type": "stream",
     "text": [
      "search: "
     ]
    },
    {
     "data": {
      "text/latex": [
       "\\begin{verbatim}\n",
       "isa(x, type) -> Bool\n",
       "\\end{verbatim}\n",
       "Determine whether \\texttt{x} is of the given \\texttt{type}.\n"
      ],
      "text/markdown": [
       "```\n",
       "isa(x, type) -> Bool\n",
       "```\n",
       "\n",
       "Determine whether `x` is of the given `type`.\n"
      ],
      "text/plain": [
       "```\n",
       "isa(x, type) -> Bool\n",
       "```\n",
       "\n",
       "Determine whether `x` is of the given `type`.\n"
      ]
     },
     "execution_count": 56,
     "metadata": {},
     "output_type": "execute_result"
    },
    {
     "name": "stdout",
     "output_type": "stream",
     "text": [
      "isa isascii isalpha isalnum isapprox isabspath isassigned disable_sigint\n",
      "\n"
     ]
    }
   ],
   "source": [
    "?isa"
   ]
  },
  {
   "cell_type": "code",
   "execution_count": 57,
   "metadata": {
    "collapsed": false
   },
   "outputs": [
    {
     "data": {
      "text/latex": [
       "\\begin{verbatim}\n",
       "@assert cond [text]\n",
       "\\end{verbatim}\n",
       "Throw an \\texttt{AssertionError} if \\texttt{cond} is \\texttt{false}. Preferred syntax for writing assertions. Message \\texttt{text} is optionally displayed upon assertion failure.\n"
      ],
      "text/markdown": [
       "```\n",
       "@assert cond [text]\n",
       "```\n",
       "\n",
       "Throw an `AssertionError` if `cond` is `false`. Preferred syntax for writing assertions. Message `text` is optionally displayed upon assertion failure.\n"
      ],
      "text/plain": [
       "```\n",
       "@assert cond [text]\n",
       "```\n",
       "\n",
       "Throw an `AssertionError` if `cond` is `false`. Preferred syntax for writing assertions. Message `text` is optionally displayed upon assertion failure.\n"
      ]
     },
     "execution_count": 57,
     "metadata": {},
     "output_type": "execute_result"
    }
   ],
   "source": [
    "?@assert"
   ]
  },
  {
   "cell_type": "code",
   "execution_count": 58,
   "metadata": {
    "collapsed": false
   },
   "outputs": [
    {
     "ename": "LoadError",
     "evalue": "LoadError: too few arguments\nwhile loading In[58], in expression starting on line 1",
     "output_type": "error",
     "traceback": [
      "LoadError: too few arguments\nwhile loading In[58], in expression starting on line 1",
      ""
     ]
    }
   ],
   "source": [
    "method(@assert)"
   ]
  },
  {
   "cell_type": "code",
   "execution_count": 59,
   "metadata": {
    "collapsed": false
   },
   "outputs": [
    {
     "ename": "LoadError",
     "evalue": "LoadError: UndefVarError: method not defined\nwhile loading In[59], in expression starting on line 1",
     "output_type": "error",
     "traceback": [
      "LoadError: UndefVarError: method not defined\nwhile loading In[59], in expression starting on line 1",
      ""
     ]
    }
   ],
   "source": [
    "method()"
   ]
  },
  {
   "cell_type": "code",
   "execution_count": 60,
   "metadata": {
    "collapsed": false
   },
   "outputs": [
    {
     "ename": "LoadError",
     "evalue": "LoadError: UndefVarError: method not defined\nwhile loading In[60], in expression starting on line 1",
     "output_type": "error",
     "traceback": [
      "LoadError: UndefVarError: method not defined\nwhile loading In[60], in expression starting on line 1",
      ""
     ]
    }
   ],
   "source": [
    "method(\"@assert\")"
   ]
  },
  {
   "cell_type": "code",
   "execution_count": 62,
   "metadata": {
    "collapsed": false
   },
   "outputs": [],
   "source": [
    "@assert isa(mydat[:x3], Any)"
   ]
  },
  {
   "cell_type": "code",
   "execution_count": 63,
   "metadata": {
    "collapsed": false
   },
   "outputs": [
    {
     "data": {
      "text/plain": [
       "DataArrays.PooledDataArray{Any,UInt8,1}"
      ]
     },
     "execution_count": 63,
     "metadata": {},
     "output_type": "execute_result"
    }
   ],
   "source": [
    "typeof(mydat[:x3])"
   ]
  },
  {
   "cell_type": "code",
   "execution_count": 64,
   "metadata": {
    "collapsed": false
   },
   "outputs": [
    {
     "name": "stdout",
     "output_type": "stream",
     "text": [
      "Length  75\n",
      "Type    Pooled Any\n",
      "NAs     0\n",
      "NA%     0.0%\n",
      "Unique  4\n"
     ]
    }
   ],
   "source": [
    "describe(mydat[:x3])"
   ]
  },
  {
   "cell_type": "code",
   "execution_count": 65,
   "metadata": {
    "collapsed": false
   },
   "outputs": [
    {
     "name": "stdout",
     "output_type": "stream",
     "text": [
      "search: "
     ]
    },
    {
     "data": {
      "text/latex": [
       "\\begin{verbatim}\n",
       "summary(x)\n",
       "\\end{verbatim}\n",
       "Return a string giving a brief description of a value. By default returns \\texttt{string(typeof(x))}. For arrays, returns strings like \"2x2 Float64 Array\".\n"
      ],
      "text/markdown": [
       "```\n",
       "summary(x)\n",
       "```\n",
       "\n",
       "Return a string giving a brief description of a value. By default returns `string(typeof(x))`. For arrays, returns strings like \"2x2 Float64 Array\".\n"
      ],
      "text/plain": [
       "```\n",
       "summary(x)\n",
       "```\n",
       "\n",
       "Return a string giving a brief description of a value. By default returns `string(typeof(x))`. For arrays, returns strings like \"2x2 Float64 Array\".\n"
      ]
     },
     "execution_count": 65,
     "metadata": {},
     "output_type": "execute_result"
    },
    {
     "name": "stdout",
     "output_type": "stream",
     "text": [
      "summary summarystats\n",
      "\n"
     ]
    }
   ],
   "source": [
    "?summary"
   ]
  },
  {
   "cell_type": "code",
   "execution_count": 66,
   "metadata": {
    "collapsed": false
   },
   "outputs": [
    {
     "name": "stdout",
     "output_type": "stream",
     "text": [
      "search: "
     ]
    },
    {
     "data": {
      "text/latex": [
       "No documentation found.\n",
       "\\texttt{StatsBase.summarystats} is a generic \\texttt{Function}.\n",
       "\\begin{verbatim}\n",
       "# 1 method for generic function \"summarystats\":\n",
       "summarystats{T<:Real}(a::AbstractArray{T<:Real,N}) at /Users/arindambose/.julia/v0.4/StatsBase/src/scalarstats.jl:350\n",
       "\\end{verbatim}\n"
      ],
      "text/markdown": [
       "No documentation found.\n",
       "\n",
       "`StatsBase.summarystats` is a generic `Function`.\n",
       "\n",
       "```julia\n",
       "# 1 method for generic function \"summarystats\":\n",
       "summarystats{T<:Real}(a::AbstractArray{T<:Real,N}) at /Users/arindambose/.julia/v0.4/StatsBase/src/scalarstats.jl:350\n",
       "```\n"
      ],
      "text/plain": [
       "No documentation found.\n",
       "\n",
       "`StatsBase.summarystats` is a generic `Function`.\n",
       "\n",
       "```julia\n",
       "# 1 method for generic function \"summarystats\":\n",
       "summarystats{T<:Real}(a::AbstractArray{T<:Real,N}) at /Users/arindambose/.julia/v0.4/StatsBase/src/scalarstats.jl:350\n",
       "```\n"
      ]
     },
     "execution_count": 66,
     "metadata": {},
     "output_type": "execute_result"
    },
    {
     "name": "stdout",
     "output_type": "stream",
     "text": [
      "summarystats\n",
      "\n"
     ]
    }
   ],
   "source": [
    "?summarystats"
   ]
  },
  {
   "cell_type": "code",
   "execution_count": 67,
   "metadata": {
    "collapsed": false
   },
   "outputs": [
    {
     "ename": "LoadError",
     "evalue": "LoadError: MethodError: `summarystats` has no method matching summarystats(::Array{Any,2}, ::Symbol)\nwhile loading In[67], in expression starting on line 1",
     "output_type": "error",
     "traceback": [
      "LoadError: MethodError: `summarystats` has no method matching summarystats(::Array{Any,2}, ::Symbol)\nwhile loading In[67], in expression starting on line 1",
      ""
     ]
    }
   ],
   "source": [
    "summarystats(mydata, :x3)"
   ]
  },
  {
   "cell_type": "code",
   "execution_count": 68,
   "metadata": {
    "collapsed": false
   },
   "outputs": [
    {
     "ename": "LoadError",
     "evalue": "LoadError: UndefVarError: method not defined\nwhile loading In[68], in expression starting on line 1",
     "output_type": "error",
     "traceback": [
      "LoadError: UndefVarError: method not defined\nwhile loading In[68], in expression starting on line 1",
      ""
     ]
    }
   ],
   "source": [
    "method(summarystats)"
   ]
  },
  {
   "cell_type": "code",
   "execution_count": 69,
   "metadata": {
    "collapsed": true
   },
   "outputs": [],
   "source": [
    "using Stats"
   ]
  },
  {
   "cell_type": "code",
   "execution_count": 70,
   "metadata": {
    "collapsed": false
   },
   "outputs": [
    {
     "ename": "LoadError",
     "evalue": "LoadError: MethodError: `summarystats` has no method matching summarystats(::Array{Any,2}, ::Symbol)\nwhile loading In[70], in expression starting on line 1",
     "output_type": "error",
     "traceback": [
      "LoadError: MethodError: `summarystats` has no method matching summarystats(::Array{Any,2}, ::Symbol)\nwhile loading In[70], in expression starting on line 1",
      ""
     ]
    }
   ],
   "source": [
    "summarystats(mydata, :x3)"
   ]
  },
  {
   "cell_type": "code",
   "execution_count": 71,
   "metadata": {
    "collapsed": false
   },
   "outputs": [
    {
     "ename": "LoadError",
     "evalue": "LoadError: indexing Array{Any,2} with types Tuple{Symbol} is not supported\nwhile loading In[71], in expression starting on line 1",
     "output_type": "error",
     "traceback": [
      "LoadError: indexing Array{Any,2} with types Tuple{Symbol} is not supported\nwhile loading In[71], in expression starting on line 1",
      "",
      " in error at /Applications/Julia-0.4.1.app/Contents/Resources/julia/lib/julia/sys.dylib",
      " in getindex at abstractarray.jl:491"
     ]
    }
   ],
   "source": [
    "summarystats(mydata[:x3])"
   ]
  },
  {
   "cell_type": "code",
   "execution_count": null,
   "metadata": {
    "collapsed": true
   },
   "outputs": [],
   "source": []
  }
 ],
 "metadata": {
  "kernelspec": {
   "display_name": "Julia 0.4.1",
   "language": "julia",
   "name": "julia-0.4"
  },
  "language_info": {
   "file_extension": ".jl",
   "mimetype": "application/julia",
   "name": "julia",
   "version": "0.4.1"
  }
 },
 "nbformat": 4,
 "nbformat_minor": 0
}
