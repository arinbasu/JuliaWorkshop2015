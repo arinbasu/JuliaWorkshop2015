{
 "cells": [
  {
   "cell_type": "code",
   "execution_count": 1,
   "metadata": {
    "collapsed": false
   },
   "outputs": [
    {
     "ename": "LoadError",
     "evalue": "LoadError: syntax: extra token \"these\" after end of expression\nwhile loading In[1], in expression starting on line 3",
     "output_type": "error",
     "traceback": [
      "LoadError: syntax: extra token \"these\" after end of expression\nwhile loading In[1], in expression starting on line 3",
      ""
     ]
    }
   ],
   "source": [
    "## Introduction to julia\n",
    "\n",
    "In these series of notebooks, we are going to learn about Julia. These are \n",
    "all introductory notes here, essentially getting to know the language,\n",
    "and in the next session, we are going to cover data analysis and graphics\n",
    "\n",
    "## Getting Julia\n"
   ]
  },
  {
   "cell_type": "code",
   "execution_count": 4,
   "metadata": {
    "collapsed": false
   },
   "outputs": [
    {
     "name": "stderr",
     "output_type": "stream",
     "text": [
      "WARNING: Base.String is deprecated, use AbstractString instead.\n",
      "  likely near /Users/arindambose/.julia/v0.4/RDatasets/src/dataset.jl:1\n",
      "WARNING: Base.String is deprecated, use AbstractString instead.\n",
      "  likely near /Users/arindambose/.julia/v0.4/RDatasets/src/dataset.jl:1\n",
      "WARNING: Base.String is deprecated, use AbstractString instead.\n",
      "  likely near /Users/arindambose/.julia/v0.4/RDatasets/src/datasets.jl:1\n"
     ]
    },
    {
     "data": {
      "text/plain": [
       "crosstable (generic function with 1 method)"
      ]
     },
     "execution_count": 4,
     "metadata": {},
     "output_type": "execute_result"
    }
   ],
   "source": [
    "using DataFrames, DataArrays, RDatasets\n",
    "\n",
    "function crosstable(data::DataFrame,col1,col2)\n",
    "       @assert isa(data[col1],PooledDataArray)\n",
    "       @assert isa(data[col2],PooledDataArray)\n",
    "       nres= NamedArray(zeros(Int,length(data[col1].pool),length(data[col2].pool)),Any[data[col1].pool,data[col2].pool],[col1,col2])\n",
    "       for i=1:nrow(data)\n",
    "           nres[data[col1].refs[i],data[col2].refs[i]] += 1\n",
    "       end\n",
    "       nres\n",
    "end"
   ]
  },
  {
   "cell_type": "code",
   "execution_count": 5,
   "metadata": {
    "collapsed": false
   },
   "outputs": [
    {
     "data": {
      "text/html": [
       "<table class=\"data-frame\"><tr><th></th><th>Time</th><th>Demand</th></tr><tr><th>1</th><td>1</td><td>8.3</td></tr><tr><th>2</th><td>2</td><td>10.3</td></tr><tr><th>3</th><td>3</td><td>19.0</td></tr><tr><th>4</th><td>4</td><td>16.0</td></tr><tr><th>5</th><td>5</td><td>15.6</td></tr><tr><th>6</th><td>7</td><td>19.8</td></tr></table>"
      ],
      "text/plain": [
       "6x2 DataFrames.DataFrame\n",
       "| Row | Time | Demand |\n",
       "|-----|------|--------|\n",
       "| 1   | 1    | 8.3    |\n",
       "| 2   | 2    | 10.3   |\n",
       "| 3   | 3    | 19.0   |\n",
       "| 4   | 4    | 16.0   |\n",
       "| 5   | 5    | 15.6   |\n",
       "| 6   | 7    | 19.8   |"
      ]
     },
     "execution_count": 5,
     "metadata": {},
     "output_type": "execute_result"
    }
   ],
   "source": [
    "bod = dataset(\"datasets\", \"BOD\")"
   ]
  },
  {
   "cell_type": "code",
   "execution_count": 13,
   "metadata": {
    "collapsed": false
   },
   "outputs": [
    {
     "data": {
      "text/plain": [
       "6-element DataArrays.DataArray{Bool,1}:\n",
       " false\n",
       " false\n",
       "  true\n",
       "  true\n",
       "  true\n",
       "  true"
      ]
     },
     "execution_count": 13,
     "metadata": {},
     "output_type": "execute_result"
    }
   ],
   "source": [
    "dbin = (bod[:Demand] .>= 15.0)"
   ]
  },
  {
   "cell_type": "code",
   "execution_count": 10,
   "metadata": {
    "collapsed": false
   },
   "outputs": [
    {
     "data": {
      "text/html": [
       "<table class=\"data-frame\"><tr><th></th><th>Time</th><th>Demand</th></tr><tr><th>1</th><td>1</td><td>8.3</td></tr><tr><th>2</th><td>2</td><td>10.3</td></tr><tr><th>3</th><td>3</td><td>19.0</td></tr><tr><th>4</th><td>4</td><td>16.0</td></tr><tr><th>5</th><td>5</td><td>15.6</td></tr><tr><th>6</th><td>7</td><td>19.8</td></tr></table>"
      ],
      "text/plain": [
       "6x2 DataFrames.DataFrame\n",
       "| Row | Time | Demand |\n",
       "|-----|------|--------|\n",
       "| 1   | 1    | 8.3    |\n",
       "| 2   | 2    | 10.3   |\n",
       "| 3   | 3    | 19.0   |\n",
       "| 4   | 4    | 16.0   |\n",
       "| 5   | 5    | 15.6   |\n",
       "| 6   | 7    | 19.8   |"
      ]
     },
     "execution_count": 10,
     "metadata": {},
     "output_type": "execute_result"
    }
   ],
   "source": [
    "bod"
   ]
  },
  {
   "cell_type": "code",
   "execution_count": 11,
   "metadata": {
    "collapsed": false
   },
   "outputs": [
    {
     "ename": "LoadError",
     "evalue": "LoadError: MethodError: `isless` has no method matching isless(::Symbol, ::Int64)\nClosest candidates are:\n  isless(!Matched::AbstractFloat, ::Real)\n  isless(!Matched::Real, ::Real)\n  isless(!Matched::Char, ::Integer)\n  ...\nwhile loading In[11], in expression starting on line 1",
     "output_type": "error",
     "traceback": [
      "LoadError: MethodError: `isless` has no method matching isless(::Symbol, ::Int64)\nClosest candidates are:\n  isless(!Matched::AbstractFloat, ::Real)\n  isless(!Matched::Real, ::Real)\n  isless(!Matched::Char, ::Integer)\n  ...\nwhile loading In[11], in expression starting on line 1",
      "",
      " in >= at operators.jl:37"
     ]
    }
   ],
   "source": [
    "dbin = :Demand >= 15"
   ]
  },
  {
   "cell_type": "code",
   "execution_count": 12,
   "metadata": {
    "collapsed": false
   },
   "outputs": [
    {
     "ename": "LoadError",
     "evalue": "LoadError: MethodError: `isless` has no method matching isless(::Int64, ::DataArrays.DataArray{Float64,1})\nClosest candidates are:\n  isless(::Real, !Matched::AbstractFloat)\n  isless(::Real, !Matched::Real)\n  isless(::Integer, !Matched::Char)\n  ...\nwhile loading In[12], in expression starting on line 1",
     "output_type": "error",
     "traceback": [
      "LoadError: MethodError: `isless` has no method matching isless(::Int64, ::DataArrays.DataArray{Float64,1})\nClosest candidates are:\n  isless(::Real, !Matched::AbstractFloat)\n  isless(::Real, !Matched::Real)\n  isless(::Integer, !Matched::Char)\n  ...\nwhile loading In[12], in expression starting on line 1",
      "",
      " in > at operators.jl:34"
     ]
    }
   ],
   "source": [
    "dbin = bod[:Demand] > 15"
   ]
  },
  {
   "cell_type": "code",
   "execution_count": 14,
   "metadata": {
    "collapsed": false
   },
   "outputs": [
    {
     "data": {
      "text/plain": [
       "6-element DataArrays.DataArray{Bool,1}:\n",
       " false\n",
       " false\n",
       "  true\n",
       "  true\n",
       "  true\n",
       "  true"
      ]
     },
     "execution_count": 14,
     "metadata": {},
     "output_type": "execute_result"
    }
   ],
   "source": [
    "bod[:dbin] = dbin"
   ]
  },
  {
   "cell_type": "code",
   "execution_count": 15,
   "metadata": {
    "collapsed": false
   },
   "outputs": [
    {
     "ename": "LoadError",
     "evalue": "LoadError: AssertionError: isa(data[col1],PooledDataArray)\nwhile loading In[15], in expression starting on line 1",
     "output_type": "error",
     "traceback": [
      "LoadError: AssertionError: isa(data[col1],PooledDataArray)\nwhile loading In[15], in expression starting on line 1",
      "",
      " in crosstable at In[4]:4"
     ]
    }
   ],
   "source": [
    "crosstable(bod, :Time, :dbin)"
   ]
  },
  {
   "cell_type": "code",
   "execution_count": 16,
   "metadata": {
    "collapsed": false
   },
   "outputs": [
    {
     "ename": "LoadError",
     "evalue": "LoadError: AssertionError: isa(data[col1],PooledDataArray)\nwhile loading In[16], in expression starting on line 1",
     "output_type": "error",
     "traceback": [
      "LoadError: AssertionError: isa(data[col1],PooledDataArray)\nwhile loading In[16], in expression starting on line 1",
      "",
      " in crosstable at In[4]:4"
     ]
    }
   ],
   "source": [
    "crosstable(bod, :dbin, :Time)"
   ]
  },
  {
   "cell_type": "code",
   "execution_count": 17,
   "metadata": {
    "collapsed": false
   },
   "outputs": [
    {
     "ename": "LoadError",
     "evalue": "LoadError: UndefVarError: freqtable not defined\nwhile loading In[17], in expression starting on line 1",
     "output_type": "error",
     "traceback": [
      "LoadError: UndefVarError: freqtable not defined\nwhile loading In[17], in expression starting on line 1",
      ""
     ]
    }
   ],
   "source": [
    "freqtable(bod, :dbin, :Time)"
   ]
  },
  {
   "cell_type": "code",
   "execution_count": 18,
   "metadata": {
    "collapsed": false
   },
   "outputs": [
    {
     "name": "stderr",
     "output_type": "stream",
     "text": [
      "WARNING: New definition \n",
      "    broadcast(Function, NamedArrays.NamedArray...) at /Users/arindambose/.julia/v0.4/NamedArrays/src/keepnames.jl:47\n",
      "is ambiguous with: \n",
      "    broadcast(Function, DataArrays.PooledDataArray...) at /Users/arindambose/.julia/v0.4/DataArrays/src/broadcast.jl:309.\n",
      "To fix, define \n",
      "    broadcast(Function)\n",
      "before the new definition.\n",
      "WARNING: New definition \n",
      "    +(AbstractArray{#T1<:Number, #N<:Any}, NamedArrays.NamedArray{#T2<:Number, #N<:Any, AT<:Any, DT<:Any}) at /Users/arindambose/.julia/v0.4/NamedArrays/src/arithmetic.jl:34\n",
      "is ambiguous with: \n",
      "    +(DataArrays.DataArray, AbstractArray) at /Users/arindambose/.julia/v0.4/DataArrays/src/operators.jl:326.\n",
      "To fix, define \n",
      "    +(DataArrays.DataArray{#T1<:Number, N<:Any}, NamedArrays.NamedArray{#T2<:Number, N<:Any, AT<:Any, DT<:Any})\n",
      "before the new definition.\n",
      "WARNING: New definition \n",
      "    +(AbstractArray{#T1<:Number, #N<:Any}, NamedArrays.NamedArray{#T2<:Number, #N<:Any, AT<:Any, DT<:Any}) at /Users/arindambose/.julia/v0.4/NamedArrays/src/arithmetic.jl:34\n",
      "is ambiguous with: \n",
      "    +(DataArrays.AbstractDataArray, AbstractArray) at /Users/arindambose/.julia/v0.4/DataArrays/src/operators.jl:349.\n",
      "To fix, define \n",
      "    +(DataArrays.AbstractDataArray{#T1<:Number, N<:Any}, NamedArrays.NamedArray{#T2<:Number, N<:Any, AT<:Any, DT<:Any})\n",
      "before the new definition.\n",
      "WARNING: New definition \n",
      "    ./(NamedArrays.NamedArray{#T1<:Number, #N<:Any, AT<:Any, DT<:Any}, AbstractArray{#T2<:Number, #N<:Any}) at /Users/arindambose/.julia/v0.4/NamedArrays/src/arithmetic.jl:33\n",
      "is ambiguous with: \n",
      "    ./(AbstractArray, Union{DataArrays.DataArray, DataArrays.PooledDataArray}) at /Users/arindambose/.julia/v0.4/DataArrays/src/broadcast.jl:285.\n",
      "To fix, define \n",
      "    ./(NamedArrays.NamedArray{#T1<:Number, N<:Any, AT<:Any, DT<:Any}, Union{DataArrays.PooledDataArray{#T2<:Number, R<:Integer, N<:Any}, DataArrays.DataArray{#T2<:Number, N<:Any}})\n",
      "before the new definition.\n",
      "WARNING: New definition \n",
      "    ./(AbstractArray{#T1<:Number, #N<:Any}, NamedArrays.NamedArray{#T2<:Number, #N<:Any, AT<:Any, DT<:Any}) at /Users/arindambose/.julia/v0.4/NamedArrays/src/arithmetic.jl:34\n",
      "is ambiguous with: \n",
      "    ./(Union{DataArrays.DataArray, DataArrays.PooledDataArray}, AbstractArray) at /Users/arindambose/.julia/v0.4/DataArrays/src/broadcast.jl:284.\n",
      "To fix, define \n",
      "    ./(Union{DataArrays.PooledDataArray{#T1<:Number, R<:Integer, N<:Any}, DataArrays.DataArray{#T1<:Number, N<:Any}}, NamedArrays.NamedArray{#T2<:Number, N<:Any, AT<:Any, DT<:Any})\n",
      "before the new definition.\n",
      "WARNING: New definition \n",
      "    ./(NamedArrays.NamedArray, AbstractArray) at /Users/arindambose/.julia/v0.4/NamedArrays/src/arithmetic.jl:62\n",
      "is ambiguous with: \n",
      "    ./(AbstractArray, Union{DataArrays.DataArray, DataArrays.PooledDataArray}) at /Users/arindambose/.julia/v0.4/DataArrays/src/broadcast.jl:285.\n",
      "To fix, define \n",
      "    ./(NamedArrays.NamedArray, Union{DataArrays.DataArray, DataArrays.PooledDataArray})\n",
      "before the new definition.\n",
      "WARNING: New definition \n",
      "    .+(NamedArrays.NamedArray{#T1<:Number, #N<:Any, AT<:Any, DT<:Any}, AbstractArray{#T2<:Number, #N<:Any}) at /Users/arindambose/.julia/v0.4/NamedArrays/src/arithmetic.jl:33\n",
      "is ambiguous with: \n",
      "    .+(AbstractArray, Union{DataArrays.DataArray, DataArrays.PooledDataArray}, AbstractArray...) at /Users/arindambose/.julia/v0.4/DataArrays/src/broadcast.jl:297.\n",
      "To fix, define \n",
      "    .+(NamedArrays.NamedArray{#T1<:Number, N<:Any, AT<:Any, DT<:Any}, Union{DataArrays.PooledDataArray{#T2<:Number, R<:Integer, N<:Any}, DataArrays.DataArray{#T2<:Number, N<:Any}})\n",
      "before the new definition.\n",
      "WARNING: New definition \n",
      "    .+(AbstractArray{#T1<:Number, #N<:Any}, NamedArrays.NamedArray{#T2<:Number, #N<:Any, AT<:Any, DT<:Any}) at /Users/arindambose/.julia/v0.4/NamedArrays/src/arithmetic.jl:34\n",
      "is ambiguous with: \n",
      "    .+(Union{DataArrays.DataArray, DataArrays.PooledDataArray}, AbstractArray...) at /Users/arindambose/.julia/v0.4/DataArrays/src/broadcast.jl:297.\n",
      "To fix, define \n",
      "    .+(Union{DataArrays.PooledDataArray{#T1<:Number, R<:Integer, N<:Any}, DataArrays.DataArray{#T1<:Number, N<:Any}}, NamedArrays.NamedArray{#T2<:Number, N<:Any, AT<:Any, DT<:Any})\n",
      "before the new definition.\n",
      "WARNING: New definition \n",
      "    .+(NamedArrays.NamedArray, AbstractArray) at /Users/arindambose/.julia/v0.4/NamedArrays/src/arithmetic.jl:62\n",
      "is ambiguous with: \n",
      "    .+(AbstractArray, Union{DataArrays.DataArray, DataArrays.PooledDataArray}, AbstractArray...) at /Users/arindambose/.julia/v0.4/DataArrays/src/broadcast.jl:297.\n",
      "To fix, define \n",
      "    .+(NamedArrays.NamedArray, Union{DataArrays.DataArray, DataArrays.PooledDataArray})\n",
      "before the new definition.\n",
      "WARNING: New definition \n",
      "    .*(NamedArrays.NamedArray{#T1<:Number, #N<:Any, AT<:Any, DT<:Any}, AbstractArray{#T2<:Number, #N<:Any}) at /Users/arindambose/.julia/v0.4/NamedArrays/src/arithmetic.jl:33\n",
      "is ambiguous with: \n",
      "    .*(AbstractArray, Union{DataArrays.DataArray, DataArrays.PooledDataArray}, AbstractArray...) at /Users/arindambose/.julia/v0.4/DataArrays/src/broadcast.jl:295.\n",
      "To fix, define \n",
      "    .*(NamedArrays.NamedArray{#T1<:Number, N<:Any, AT<:Any, DT<:Any}, Union{DataArrays.PooledDataArray{#T2<:Number, R<:Integer, N<:Any}, DataArrays.DataArray{#T2<:Number, N<:Any}})\n",
      "before the new definition.\n",
      "WARNING: New definition \n",
      "    .*(AbstractArray{#T1<:Number, #N<:Any}, NamedArrays.NamedArray{#T2<:Number, #N<:Any, AT<:Any, DT<:Any}) at /Users/arindambose/.julia/v0.4/NamedArrays/src/arithmetic.jl:34\n",
      "is ambiguous with: \n",
      "    .*(Union{DataArrays.DataArray, DataArrays.PooledDataArray}, AbstractArray...) at /Users/arindambose/.julia/v0.4/DataArrays/src/broadcast.jl:295.\n",
      "To fix, define \n",
      "    .*(Union{DataArrays.PooledDataArray{#T1<:Number, R<:Integer, N<:Any}, DataArrays.DataArray{#T1<:Number, N<:Any}}, NamedArrays.NamedArray{#T2<:Number, N<:Any, AT<:Any, DT<:Any})\n",
      "before the new definition.\n",
      "WARNING: New definition \n",
      "    .*(NamedArrays.NamedArray, AbstractArray) at /Users/arindambose/.julia/v0.4/NamedArrays/src/arithmetic.jl:62\n",
      "is ambiguous with: \n",
      "    .*(AbstractArray, Union{DataArrays.DataArray, DataArrays.PooledDataArray}, AbstractArray...) at /Users/arindambose/.julia/v0.4/DataArrays/src/broadcast.jl:295.\n",
      "To fix, define \n",
      "    .*(NamedArrays.NamedArray, Union{DataArrays.DataArray, DataArrays.PooledDataArray})\n",
      "before the new definition.\n",
      "WARNING: New definition \n",
      "    -(NamedArrays.NamedArray{#T1<:Number, #N<:Any, AT<:Any, DT<:Any}, AbstractArray{#T2<:Number, #N<:Any}) at /Users/arindambose/.julia/v0.4/NamedArrays/src/arithmetic.jl:33\n",
      "is ambiguous with: \n",
      "    -(AbstractArray, DataArrays.DataArray) at /Users/arindambose/.julia/v0.4/DataArrays/src/operators.jl:326.\n",
      "To fix, define \n",
      "    -(NamedArrays.NamedArray{#T1<:Number, N<:Any, AT<:Any, DT<:Any}, DataArrays.DataArray{#T2<:Number, N<:Any})\n",
      "before the new definition.\n",
      "WARNING: New definition \n",
      "    -(NamedArrays.NamedArray{#T1<:Number, #N<:Any, AT<:Any, DT<:Any}, AbstractArray{#T2<:Number, #N<:Any}) at /Users/arindambose/.julia/v0.4/NamedArrays/src/arithmetic.jl:33\n",
      "is ambiguous with: \n",
      "    -(AbstractArray, DataArrays.AbstractDataArray) at /Users/arindambose/.julia/v0.4/DataArrays/src/operators.jl:349.\n",
      "To fix, define \n",
      "    -(NamedArrays.NamedArray{#T1<:Number, N<:Any, AT<:Any, DT<:Any}, DataArrays.AbstractDataArray{#T2<:Number, N<:Any})\n",
      "before the new definition.\n",
      "WARNING: New definition \n",
      "    -(AbstractArray{#T1<:Number, #N<:Any}, NamedArrays.NamedArray{#T2<:Number, #N<:Any, AT<:Any, DT<:Any}) at /Users/arindambose/.julia/v0.4/NamedArrays/src/arithmetic.jl:34\n",
      "is ambiguous with: \n",
      "    -(DataArrays.DataArray, AbstractArray) at /Users/arindambose/.julia/v0.4/DataArrays/src/operators.jl:326.\n",
      "To fix, define \n",
      "    -(DataArrays.DataArray{#T1<:Number, N<:Any}, NamedArrays.NamedArray{#T2<:Number, N<:Any, AT<:Any, DT<:Any})\n",
      "before the new definition.\n",
      "WARNING: New definition \n",
      "    -(AbstractArray{#T1<:Number, #N<:Any}, NamedArrays.NamedArray{#T2<:Number, #N<:Any, AT<:Any, DT<:Any}) at /Users/arindambose/.julia/v0.4/NamedArrays/src/arithmetic.jl:34\n",
      "is ambiguous with: \n",
      "    -(DataArrays.AbstractDataArray, AbstractArray) at /Users/arindambose/.julia/v0.4/DataArrays/src/operators.jl:349.\n",
      "To fix, define \n",
      "    -(DataArrays.AbstractDataArray{#T1<:Number, N<:Any}, NamedArrays.NamedArray{#T2<:Number, N<:Any, AT<:Any, DT<:Any})\n",
      "before the new definition.\n",
      "WARNING: New definition \n",
      "    -(NamedArrays.NamedArray, AbstractArray) at /Users/arindambose/.julia/v0.4/NamedArrays/src/arithmetic.jl:62\n",
      "is ambiguous with: \n",
      "    -(AbstractArray, DataArrays.DataArray) at /Users/arindambose/.julia/v0.4/DataArrays/src/operators.jl:326.\n",
      "To fix, define \n",
      "    -(NamedArrays.NamedArray, DataArrays.DataArray)\n",
      "before the new definition.\n",
      "WARNING: New definition \n",
      "    -(NamedArrays.NamedArray, AbstractArray) at /Users/arindambose/.julia/v0.4/NamedArrays/src/arithmetic.jl:62\n",
      "is ambiguous with: \n",
      "    -(AbstractArray, DataArrays.AbstractDataArray) at /Users/arindambose/.julia/v0.4/DataArrays/src/operators.jl:349.\n",
      "To fix, define \n",
      "    -(NamedArrays.NamedArray, DataArrays.AbstractDataArray)\n",
      "before the new definition.\n",
      "WARNING: New definition \n",
      "    .-(NamedArrays.NamedArray{#T1<:Number, #N<:Any, AT<:Any, DT<:Any}, AbstractArray{#T2<:Number, #N<:Any}) at /Users/arindambose/.julia/v0.4/NamedArrays/src/arithmetic.jl:33\n",
      "is ambiguous with: \n",
      "    .-(AbstractArray, Union{DataArrays.DataArray, DataArrays.PooledDataArray}) at /Users/arindambose/.julia/v0.4/DataArrays/src/broadcast.jl:285.\n",
      "To fix, define \n",
      "    .-(NamedArrays.NamedArray{#T1<:Number, N<:Any, AT<:Any, DT<:Any}, Union{DataArrays.PooledDataArray{#T2<:Number, R<:Integer, N<:Any}, DataArrays.DataArray{#T2<:Number, N<:Any}})\n",
      "before the new definition.\n",
      "WARNING: New definition \n",
      "    .-(AbstractArray{#T1<:Number, #N<:Any}, NamedArrays.NamedArray{#T2<:Number, #N<:Any, AT<:Any, DT<:Any}) at /Users/arindambose/.julia/v0.4/NamedArrays/src/arithmetic.jl:34\n",
      "is ambiguous with: \n",
      "    .-(Union{DataArrays.DataArray, DataArrays.PooledDataArray}, AbstractArray) at /Users/arindambose/.julia/v0.4/DataArrays/src/broadcast.jl:284.\n",
      "To fix, define \n",
      "    .-(Union{DataArrays.PooledDataArray{#T1<:Number, R<:Integer, N<:Any}, DataArrays.DataArray{#T1<:Number, N<:Any}}, NamedArrays.NamedArray{#T2<:Number, N<:Any, AT<:Any, DT<:Any})\n",
      "before the new definition.\n",
      "WARNING: New definition \n",
      "    .-(NamedArrays.NamedArray, AbstractArray) at /Users/arindambose/.julia/v0.4/NamedArrays/src/arithmetic.jl:62\n",
      "is ambiguous with: \n",
      "    .-(AbstractArray, Union{DataArrays.DataArray, DataArrays.PooledDataArray}) at /Users/arindambose/.julia/v0.4/DataArrays/src/broadcast.jl:285.\n",
      "To fix, define \n",
      "    .-(NamedArrays.NamedArray, Union{DataArrays.DataArray, DataArrays.PooledDataArray})\n",
      "before the new definition.\n",
      "WARNING: requiring \"Freqtables\" in module \"Main\" did not define a corresponding module.\n"
     ]
    }
   ],
   "source": [
    "using Freqtables"
   ]
  },
  {
   "cell_type": "code",
   "execution_count": 19,
   "metadata": {
    "collapsed": false
   },
   "outputs": [
    {
     "ename": "LoadError",
     "evalue": "LoadError: UndefVarError: freqtable not defined\nwhile loading In[19], in expression starting on line 1",
     "output_type": "error",
     "traceback": [
      "LoadError: UndefVarError: freqtable not defined\nwhile loading In[19], in expression starting on line 1",
      ""
     ]
    }
   ],
   "source": [
    "freqtable(bod, :Time, :dbin)"
   ]
  },
  {
   "cell_type": "code",
   "execution_count": 20,
   "metadata": {
    "collapsed": false
   },
   "outputs": [
    {
     "name": "stderr",
     "output_type": "stream",
     "text": [
      "INFO: Nothing to be done\n",
      "INFO: METADATA is out-of-date — you may not have the latest version of Freqtables\n",
      "INFO: Use `Pkg.update()` to get the latest versions of your packages\n"
     ]
    }
   ],
   "source": [
    "Pkg.add(\"Freqtables\")"
   ]
  },
  {
   "cell_type": "code",
   "execution_count": 21,
   "metadata": {
    "collapsed": false
   },
   "outputs": [
    {
     "name": "stderr",
     "output_type": "stream",
     "text": [
      "INFO: Updating METADATA...\n",
      "INFO: Updating cache of FactCheck...\n",
      "INFO: Updating Tables...\n",
      "INFO: Updating RCalling...\n",
      "INFO: Updating FreqTables...\n",
      "INFO: Computing changes...\n",
      "INFO: Upgrading FactCheck: v0.4.1 => v0.4.2\n"
     ]
    }
   ],
   "source": [
    "Pkg.update()"
   ]
  },
  {
   "cell_type": "code",
   "execution_count": 22,
   "metadata": {
    "collapsed": false
   },
   "outputs": [
    {
     "name": "stderr",
     "output_type": "stream",
     "text": [
      "WARNING: replacing module FreqTables\n",
      "WARNING: requiring \"Freqtables\" in module \"Main\" did not define a corresponding module.\n"
     ]
    }
   ],
   "source": [
    "using Freqtables\n"
   ]
  },
  {
   "cell_type": "code",
   "execution_count": 23,
   "metadata": {
    "collapsed": false
   },
   "outputs": [
    {
     "ename": "LoadError",
     "evalue": "LoadError: UndefVarError: freqtable not defined\nwhile loading In[23], in expression starting on line 1",
     "output_type": "error",
     "traceback": [
      "LoadError: UndefVarError: freqtable not defined\nwhile loading In[23], in expression starting on line 1",
      ""
     ]
    }
   ],
   "source": [
    "freqtable(bod, :Time, :dbin)"
   ]
  },
  {
   "cell_type": "code",
   "execution_count": null,
   "metadata": {
    "collapsed": true
   },
   "outputs": [],
   "source": []
  }
 ],
 "metadata": {
  "kernelspec": {
   "display_name": "Julia 0.4.1",
   "language": "julia",
   "name": "julia-0.4"
  },
  "language_info": {
   "file_extension": ".jl",
   "mimetype": "application/julia",
   "name": "julia",
   "version": "0.4.1"
  }
 },
 "nbformat": 4,
 "nbformat_minor": 0
}
